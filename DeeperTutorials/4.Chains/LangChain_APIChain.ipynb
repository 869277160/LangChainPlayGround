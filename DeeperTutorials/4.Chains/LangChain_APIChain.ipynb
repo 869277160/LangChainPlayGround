{
  "cells": [
    {
      "cell_type": "markdown",
      "metadata": {
        "colab_type": "text",
        "id": "view-in-github"
      },
      "source": [
        "<a href=\"https://colab.research.google.com/github/sugarforever/LangChain-Tutorials/blob/main/LangChain_APIChain.ipynb\" target=\"_parent\"><img src=\"https://colab.research.google.com/assets/colab-badge.svg\" alt=\"Open In Colab\"/></a>"
      ]
    },
    {
      "cell_type": "markdown",
      "metadata": {},
      "source": [
        "# LangChain + OpenAI实现基于自然语言的网络爬虫"
      ]
    },
    {
      "cell_type": "code",
      "execution_count": 1,
      "metadata": {
        "colab": {
          "base_uri": "https://localhost:8080/"
        },
        "id": "j-ARiJc5771h",
        "outputId": "fad717a8-ed32-43c8-8ad5-3efa2fa9a87c"
      },
      "outputs": [
        {
          "name": "stdout",
          "output_type": "stream",
          "text": [
            "\u001b[2K     \u001b[90m━━━━━━━━━━━━━━━━━━━━━━━━━━━━━━━━━━━━━━\u001b[0m \u001b[32m696.4/696.4 kB\u001b[0m \u001b[31m12.7 MB/s\u001b[0m eta \u001b[36m0:00:00\u001b[0m\n",
            "\u001b[2K     \u001b[90m━━━━━━━━━━━━━━━━━━━━━━━━━━━━━━━━━━━━━━━━\u001b[0m \u001b[32m71.6/71.6 kB\u001b[0m \u001b[31m3.5 MB/s\u001b[0m eta \u001b[36m0:00:00\u001b[0m\n",
            "\u001b[2K     \u001b[90m━━━━━━━━━━━━━━━━━━━━━━━━━━━━━━━━━━━━━━━━\u001b[0m \u001b[32m1.0/1.0 MB\u001b[0m \u001b[31m26.4 MB/s\u001b[0m eta \u001b[36m0:00:00\u001b[0m\n",
            "\u001b[2K     \u001b[90m━━━━━━━━━━━━━━━━━━━━━━━━━━━━━━━━━━━━━━━━\u001b[0m \u001b[32m90.0/90.0 kB\u001b[0m \u001b[31m7.4 MB/s\u001b[0m eta \u001b[36m0:00:00\u001b[0m\n",
            "\u001b[2K     \u001b[90m━━━━━━━━━━━━━━━━━━━━━━━━━━━━━━━━━━━━━━\u001b[0m \u001b[32m268.8/268.8 kB\u001b[0m \u001b[31m12.7 MB/s\u001b[0m eta \u001b[36m0:00:00\u001b[0m\n",
            "\u001b[2K     \u001b[90m━━━━━━━━━━━━━━━━━━━━━━━━━━━━━━━━━━━━━━━\u001b[0m \u001b[32m149.6/149.6 kB\u001b[0m \u001b[31m8.7 MB/s\u001b[0m eta \u001b[36m0:00:00\u001b[0m\n",
            "\u001b[2K     \u001b[90m━━━━━━━━━━━━━━━━━━━━━━━━━━━━━━━━━━━━━━━\u001b[0m \u001b[32m114.5/114.5 kB\u001b[0m \u001b[31m4.5 MB/s\u001b[0m eta \u001b[36m0:00:00\u001b[0m\n",
            "\u001b[2K     \u001b[90m━━━━━━━━━━━━━━━━━━━━━━━━━━━━━━━━━━━━━━━\u001b[0m \u001b[32m49.1/49.1 kB\u001b[0m \u001b[31m509.3 kB/s\u001b[0m eta \u001b[36m0:00:00\u001b[0m\n",
            "\u001b[?25h"
          ]
        }
      ],
      "source": [
        "# !pip install -qU langchain openai"
      ]
    },
    {
      "cell_type": "code",
      "execution_count": 1,
      "metadata": {
        "id": "8fJjgh7C8TU7"
      },
      "outputs": [
        {
          "name": "stderr",
          "output_type": "stream",
          "text": [
            "d:\\Anaconda3\\envs\\LLM\\lib\\site-packages\\numpy\\_distributor_init.py:30: UserWarning: loaded more than 1 DLL from .libs:\n",
            "d:\\Anaconda3\\envs\\LLM\\lib\\site-packages\\numpy\\.libs\\libopenblas.FB5AE2TYXYH2IJRDKGDGQ3XBKLKTF43H.gfortran-win_amd64.dll\n",
            "d:\\Anaconda3\\envs\\LLM\\lib\\site-packages\\numpy\\.libs\\libopenblas64__v0.3.23-246-g3d31191b-gcc_10_3_0.dll\n",
            "  warnings.warn(\"loaded more than 1 DLL from .libs:\"\n"
          ]
        },
        {
          "name": "stdout",
          "output_type": "stream",
          "text": [
            "c:\\Users\\lenovo\\Desktop\\LangChainPlayGround\\DeeperTutorials\\.env\n",
            "sk-lANo2jIeCWQt94UCCf5d16B7C32744279bF98b06C822D519\n"
          ]
        },
        {
          "name": "stderr",
          "output_type": "stream",
          "text": [
            "d:\\Anaconda3\\envs\\LLM\\lib\\site-packages\\langchain\\llms\\openai.py:201: UserWarning: You are trying to use a chat model. This way of initializing it is no longer supported. Instead, please use: `from langchain.chat_models import ChatOpenAI`\n",
            "  warnings.warn(\n",
            "d:\\Anaconda3\\envs\\LLM\\lib\\site-packages\\langchain\\llms\\openai.py:786: UserWarning: You are trying to use a chat model. This way of initializing it is no longer supported. Instead, please use: `from langchain.chat_models import ChatOpenAI`\n",
            "  warnings.warn(\n"
          ]
        }
      ],
      "source": [
        "import os,sys\n",
        "import openai\n",
        "from dotenv import load_dotenv, find_dotenv\n",
        "# sys.path.append(\"../..\")\n",
        "\n",
        "# 读取本地/项目的环境变量。\n",
        "\n",
        "# find_dotenv()寻找并定位.env文件的路径\n",
        "# load_dotenv()读取该.env文件，并将其中的环境变量加载到当前的运行环境中  \n",
        "# 如果你设置的是全局的环境变量，这行代码则没有任何作用。\n",
        "print(find_dotenv())\n",
        "_ = load_dotenv(find_dotenv())\n",
        "print(os.environ[\"OPENAI_API_KEY\"])\n",
        "\n",
        "from langchain import OpenAI\n",
        "from langchain.chat_models import ChatOpenAI\n",
        "from langchain.schema import (\n",
        "    SystemMessage,\n",
        "    HumanMessage,\n",
        "    AIMessage\n",
        ")\n",
        "\n",
        "from langchain.output_parsers import CommaSeparatedListOutputParser\n",
        "from langchain.prompts import PromptTemplate, ChatPromptTemplate, HumanMessagePromptTemplate\n",
        "\n",
        "from langchain.chains import LLMRequestsChain, LLMChain\n",
        "\n",
        "\n",
        "llm = OpenAI(temperature=0, model_name='gpt-3.5-turbo')"
      ]
    },
    {
      "cell_type": "code",
      "execution_count": 4,
      "metadata": {
        "id": "iInsE--I-yRY"
      },
      "outputs": [],
      "source": [
        "template = \"\"\"Between >>> and <<< are the raw search result text from provided RSS URL.\n",
        "Extract the answer to the question '{query}' or say \"not found\" if the information is not contained, and summarize all the information.\n",
        ">>> {requests_result} <<<\n",
        "Use the following JSON format to include all the titles:\n",
        "{{\n",
        "  \"titles\": [\n",
        "    'aaa',\n",
        "    'bbb',\n",
        "  ]\n",
        "}} \n",
        "Extracted:\"\"\"\n",
        "\n",
        "PROMPT = PromptTemplate(\n",
        "    input_variables=[\"query\", \"requests_result\"],\n",
        "    template=template,\n",
        ")\n",
        "\n",
        "\n",
        "chain = LLMRequestsChain(llm_chain = LLMChain(llm=llm, prompt=PROMPT))"
      ]
    },
    {
      "cell_type": "code",
      "execution_count": 5,
      "metadata": {
        "id": "Ts3Nc4otA66F"
      },
      "outputs": [
        {
          "name": "stdout",
          "output_type": "stream",
          "text": [
            "{\n",
            "  \"titles\": [\n",
            "    \"After Maui’s Wildfire Horror, Residents Search for a Way Forward\",\n",
            "    \"Trump Allies Likely to Be Booked at Notorious Atlanta Jail\",\n",
            "    \"What We Know About the Wildfires in Hawaii\",\n",
            "    \"With Racketeering Charges, Georgia Prosecutor Aims to ‘Tell the Whole Story’\",\n",
            "    \"Texas Woman Charged With Threatening to Kill Judge in Trump Election Case\",\n",
            "    \"North Carolina Bans Transgender Care for Minors as Republicans Override Veto\",\n",
            "    \"Video Shows Man Shot by Philadelphia Officer Did Not Lunge as Police Said\",\n",
            "    \"Tennessee Man Is Sentenced to Life Without Parole for 8 Murders\",\n",
            "    \"Biden Celebrates Inflation Reduction Act’s Effects on Law’s First Anniversary\",\n",
            "    \"All of Trump’s Lawyers and How Much They’re Paid in Legal Fees\"\n",
            "  ]\n",
            "}\n"
          ]
        }
      ],
      "source": [
        "inputs = {\n",
        "    \"query\": \"What are all the titles in this RSS feed?\",\n",
        "    \"url\": \"https://rss.nytimes.com/services/xml/rss/nyt/US.xml\"\n",
        "}\n",
        "\n",
        "\n",
        "response = chain(inputs)\n",
        "print(response['output'])\n"
      ]
    },
    {
      "cell_type": "code",
      "execution_count": 6,
      "metadata": {
        "id": "e9LFhyR0Ea9A"
      },
      "outputs": [],
      "source": [
        "template = \"\"\"在 >>> 和 <<< 之间是网页的返回的HTML内容。\n",
        "\n",
        "网页是新浪财经A股上市公司的每季度股东信息表格。\n",
        "\n",
        "请抽取参数请求的信息。每个截至日期作为JSON返回数据的date_of_quarter。因此，当表格中有多个截止日期时，返回数据应当包括所有的日期作为key。\n",
        "\n",
        ">>> {requests_result} <<<\n",
        "请使用如下的JSON格式返回数据\n",
        "{{\n",
        "  \"date_of_quarter\": [\n",
        "    {{\n",
        "      \"holder_name\": \"a\",\n",
        "      \"percentage\": \"50\"\n",
        "    }},\n",
        "    {{\n",
        "      \"holder_name\": \"b\",\n",
        "      \"percentage\": \"30\"\n",
        "    }},\n",
        "  ]\n",
        "}} \n",
        "\n",
        "例如，截至日期为2023-03-31，JSON数据应该是如下形式:\n",
        "\n",
        "{{\n",
        "  \"2023-03-31\": [\n",
        "    {{\n",
        "      \"holder_name\": \"a\",\n",
        "      \"percentage\": \"50\"\n",
        "    }},\n",
        "    {{\n",
        "      \"holder_name\": \"b\",\n",
        "      \"percentage\": \"30\"\n",
        "    }},\n",
        "  ]\n",
        "}}\n",
        "Extracted:\"\"\"\n",
        "\n",
        "PROMPT = PromptTemplate(\n",
        "    input_variables=[\"requests_result\"],\n",
        "    template=template,\n",
        ")\n",
        "\n",
        "chain = LLMRequestsChain(llm_chain = LLMChain(llm=llm, prompt=PROMPT))"
      ]
    },
    {
      "cell_type": "code",
      "execution_count": 8,
      "metadata": {
        "id": "u2kZVhqfEfCt"
      },
      "outputs": [
        {
          "name": "stdout",
          "output_type": "stream",
          "text": [
            "{\n",
            "  \"2023-06-30\": [\n",
            "    {\n",
            "      \"holder_name\": \"中国贵州茅台酒厂(集团)有限责任公司\",\n",
            "      \"percentage\": \"54.07\"\n",
            "    },\n",
            "    {\n",
            "      \"holder_name\": \"香港中央结算有限公司\",\n",
            "      \"percentage\": \"7\"\n",
            "    },\n",
            "    {\n",
            "      \"holder_name\": \"贵州省国有资本运营有限责任公司\",\n",
            "      \"percentage\": \"4.54\"\n",
            "    },\n",
            "    {\n",
            "      \"holder_name\": \"贵州茅台酒厂(集团)技术开发有限公司\",\n",
            "      \"percentage\": \"2.22\"\n",
            "    },\n",
            "    {\n",
            "      \"holder_name\": \"中央汇金资产管理有限责任公司\",\n",
            "      \"percentage\": \"0.83\"\n",
            "    },\n",
            "    {\n",
            "      \"holder_name\": \"深圳市金汇荣盛财富管理有限公司－金汇荣盛三号私募证券投资基金\",\n",
            "      \"percentage\": \"0.71\"\n",
            "    },\n",
            "    {\n",
            "      \"holder_name\": \"珠海市瑞丰汇邦资产管理有限公司－瑞丰汇邦三号私募证券投资基金\",\n",
            "      \"percentage\": \"0.7\"\n",
            "    },\n",
            "    {\n",
            "      \"holder_name\": \"中国证券金融股份有限公司\",\n",
            "      \"percentage\": \"0.64\"\n",
            "    },\n",
            "    {\n",
            "      \"holder_name\": \"中国工商银行－上证50交易型开放式指数证券投资基金\",\n",
            "      \"percentage\": \"0.43\"\n",
            "    },\n",
            "    {\n",
            "      \"holder_name\": \"中国银行股份有限公司－招商中证白酒指数分级证券投资基金\",\n",
            "      \"percentage\": \"0.34\"\n",
            "    }\n",
            "  ],\n",
            "  \"2023-03-31\": [\n",
            "    {\n",
            "      \"holder_name\": \"中国贵州茅台酒厂(集团)有限责任公司\",\n",
            "      \"percentage\": \"54.06\"\n",
            "    },\n",
            "    {\n",
            "      \"holder_name\": \"香港中央结算有限公司\",\n",
            "      \"percentage\": \"7.26\"\n",
            "    },\n",
            "    {\n",
            "      \"holder_name\": \"贵州省国有资本运营有限责任公司\",\n",
            "      \"percentage\": \"4.54\"\n",
            "    },\n",
            "    {\n",
            "      \"holder_name\": \"贵州茅台酒厂(集团)技术开发有限公司\",\n",
            "      \"percentage\": \"2.22\"\n",
            "    },\n",
            "    {\n",
            "      \"holder_name\": \"中央汇金资产管理有限责任公司\",\n",
            "      \"percentage\": \"0.83\"\n",
            "    },\n",
            "    {\n",
            "      \"holder_name\": \"深圳市金汇荣盛财富管理有限公司-金汇荣盛三号私募证券投资基金\",\n",
            "      \"percentage\": \"0.66\"\n",
            "    },\n",
            "    {\n",
            "      \"holder_name\": \"珠海市瑞丰汇邦资产管理有限公司-瑞丰汇邦三号私募证券投资基金\",\n",
            "      \"percentage\": \"0.65\"\n",
            "    },\n",
            "    {\n",
            "      \"holder_name\": \"中国证券金融股份有限公司\",\n",
            "      \"percentage\": \"0.64\"\n",
            "    },\n",
            "    {\n",
            "      \"holder_name\": \"中国工商银行-上证50交易型开放式指数证券投资基金\",\n",
            "      \"percentage\": \"0.39\"\n",
            "    },\n",
            "    {\n",
            "      \"holder_name\": \"中国人寿保险股份有限公司-传统-普通保险产品-005L-CT001沪\",\n",
            "      \"percentage\": \"0.32\"\n",
            "    }\n",
            "  ],\n",
            "  \"2022-12-31\": [\n",
            "    {\n",
            "      \"holder_name\": \"中国贵州茅台酒厂(集团)有限责任公司\",\n",
            "      \"percentage\": \"54\"\n",
            "    },\n",
            "    {\n",
            "      \"holder_name\": \"香港中央结算有限公司\",\n",
            "      \"percentage\": \"6.75\"\n",
            "    },\n",
            "    {\n",
            "      \"holder_name\": \"贵州省国有资本运营有限责任公司\",\n",
            "\n"
          ]
        }
      ],
      "source": [
        "inputs = {\n",
        "    \"url\": \"https://vip.stock.finance.sina.com.cn/corp/go.php/vCI_StockHolder/stockid/600519/displaytype/30.phtml\"\n",
        "}\n",
        "\n",
        "response = chain(inputs)\n",
        "print(response['output'])"
      ]
    }
  ],
  "metadata": {
    "colab": {
      "authorship_tag": "ABX9TyPi9Xve396uxUAuTiWRDCBu",
      "include_colab_link": true,
      "provenance": []
    },
    "kernelspec": {
      "display_name": "Python 3",
      "name": "python3"
    },
    "language_info": {
      "codemirror_mode": {
        "name": "ipython",
        "version": 3
      },
      "file_extension": ".py",
      "mimetype": "text/x-python",
      "name": "python",
      "nbconvert_exporter": "python",
      "pygments_lexer": "ipython3",
      "version": "3.10.12"
    }
  },
  "nbformat": 4,
  "nbformat_minor": 0
}
