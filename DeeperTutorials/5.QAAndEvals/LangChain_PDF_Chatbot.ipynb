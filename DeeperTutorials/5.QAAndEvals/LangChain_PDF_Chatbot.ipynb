{
  "cells": [
    {
      "cell_type": "markdown",
      "metadata": {
        "colab_type": "text",
        "id": "view-in-github"
      },
      "source": [
        "<a href=\"https://colab.research.google.com/github/sugarforever/LangChain-Tutorials/blob/main/LangChain_PDF_Chatbot.ipynb\" target=\"_parent\"><img src=\"https://colab.research.google.com/assets/colab-badge.svg\" alt=\"Open In Colab\"/></a>"
      ]
    },
    {
      "attachments": {},
      "cell_type": "markdown",
      "metadata": {},
      "source": [
        "该Python notebook利用langchain的QA chain，结合Chroma来实现PDF文档Analysis-and-Comparison-between-Optimism-and-StarkNet.pdf的语义化搜索。\n",
        "\n",
        "该PDF文档共61页。通过本notebook，我们演示该字数规模的文件的语义化索引的OpenAI API开销。\n",
        "\n",
        "使用时，在本地创建`.env`，并如`.env.example`所示，设置有效的OpenAI API Key即可。"
      ]
    },
    {
      "cell_type": "code",
      "execution_count": 1,
      "metadata": {},
      "outputs": [
        {
          "name": "stderr",
          "output_type": "stream",
          "text": [
            "d:\\Anaconda3\\envs\\LLM\\lib\\site-packages\\numpy\\_distributor_init.py:30: UserWarning: loaded more than 1 DLL from .libs:\n",
            "d:\\Anaconda3\\envs\\LLM\\lib\\site-packages\\numpy\\.libs\\libopenblas.FB5AE2TYXYH2IJRDKGDGQ3XBKLKTF43H.gfortran-win_amd64.dll\n",
            "d:\\Anaconda3\\envs\\LLM\\lib\\site-packages\\numpy\\.libs\\libopenblas64__v0.3.23-246-g3d31191b-gcc_10_3_0.dll\n",
            "  warnings.warn(\"loaded more than 1 DLL from .libs:\"\n"
          ]
        },
        {
          "name": "stdout",
          "output_type": "stream",
          "text": [
            "c:\\Users\\lenovo\\Desktop\\LangChainPlayGround\\DeeperTutorials\\.env\n",
            "sk-lANo2jIeCWQt94UCCf5d16B7C32744279bF98b06C822D519\n"
          ]
        },
        {
          "name": "stderr",
          "output_type": "stream",
          "text": [
            "d:\\Anaconda3\\envs\\LLM\\lib\\site-packages\\langchain\\llms\\openai.py:201: UserWarning: You are trying to use a chat model. This way of initializing it is no longer supported. Instead, please use: `from langchain.chat_models import ChatOpenAI`\n",
            "  warnings.warn(\n",
            "d:\\Anaconda3\\envs\\LLM\\lib\\site-packages\\langchain\\llms\\openai.py:786: UserWarning: You are trying to use a chat model. This way of initializing it is no longer supported. Instead, please use: `from langchain.chat_models import ChatOpenAI`\n",
            "  warnings.warn(\n"
          ]
        }
      ],
      "source": [
        "import os,sys\n",
        "import openai\n",
        "from dotenv import load_dotenv, find_dotenv\n",
        "# sys.path.append(\"../..\")\n",
        "\n",
        "# 读取本地/项目的环境变量。\n",
        "\n",
        "# find_dotenv()寻找并定位.env文件的路径\n",
        "# load_dotenv()读取该.env文件，并将其中的环境变量加载到当前的运行环境中  \n",
        "# 如果你设置的是全局的环境变量，这行代码则没有任何作用。\n",
        "print(find_dotenv())\n",
        "_ = load_dotenv(find_dotenv())\n",
        "print(os.environ[\"OPENAI_API_KEY\"])\n",
        "\n",
        "from langchain.llms import OpenAI\n",
        "from langchain.chat_models import ChatOpenAI\n",
        "from langchain.schema import (\n",
        "    SystemMessage,\n",
        "    HumanMessage,\n",
        "    AIMessage\n",
        ")\n",
        "\n",
        "from langchain.output_parsers import CommaSeparatedListOutputParser\n",
        "from langchain.prompts import PromptTemplate, ChatPromptTemplate, HumanMessagePromptTemplate\n",
        "\n",
        "from langchain.chains import LLMRequestsChain, LLMChain\n",
        "\n",
        "\n",
        "llm = OpenAI(temperature=0, model_name='gpt-3.5-turbo')"
      ]
    },
    {
      "cell_type": "markdown",
      "metadata": {},
      "source": [
        "### Load the pdf file "
      ]
    },
    {
      "cell_type": "code",
      "execution_count": 9,
      "metadata": {},
      "outputs": [
        {
          "name": "stdout",
          "output_type": "stream",
          "text": [
            "You have 61 document(s) in your data\n",
            "There are 284 characters in the first page of your document\n",
            "There are 112630 characters in your document\n",
            "Now you have 143 documents\n"
          ]
        }
      ],
      "source": [
        "from langchain.document_loaders import PyMuPDFLoader\n",
        "from langchain.text_splitter import RecursiveCharacterTextSplitter\n",
        "from langchain.embeddings.openai import OpenAIEmbeddings\n",
        "\n",
        "\n",
        "PDF_PATH='../Analysis-and-Comparison-between-Optimism-and-StarkNet.pdf'\n",
        "embedding_model = OpenAIEmbeddings()\n",
        "\n",
        "def load_pdf(path:str):\n",
        "    docs = PyMuPDFLoader(path).load()\n",
        "    print (f'You have {len(docs)} document(s) in your data')\n",
        "    print (f'There are {len(docs[0].page_content)} characters in the first page of your document')\n",
        "    \n",
        "    total = 0\n",
        "    for doc in docs:\n",
        "        total += len(doc.page_content)\n",
        "    print (f'There are {total} characters in your document')\n",
        "\n",
        "    return docs\n",
        "\n",
        "def load_and_split_doc():\n",
        "    docs = load_pdf(PDF_PATH)\n",
        "    text_splitter = RecursiveCharacterTextSplitter(chunk_size=1000, chunk_overlap=0)\n",
        "    split_docs = text_splitter.split_documents(docs)\n",
        "    print (f'Now you have {len(split_docs)} documents')\n",
        "\n",
        "    return split_docs\n",
        "\n",
        "splitted_docs = split_doc()"
      ]
    },
    {
      "cell_type": "markdown",
      "metadata": {},
      "source": [
        "## Load the vector database"
      ]
    },
    {
      "cell_type": "code",
      "execution_count": 12,
      "metadata": {
        "id": "hGdpt9LygkLy"
      },
      "outputs": [
        {
          "name": "stdout",
          "output_type": "stream",
          "text": [
            "Tokens Used: 0\n",
            "\tPrompt Tokens: 0\n",
            "\tCompletion Tokens: 0\n",
            "Successful Requests: 0\n",
            "Total Cost (USD): $0.0\n"
          ]
        }
      ],
      "source": [
        "from langchain.vectorstores import Chroma\n",
        "\n",
        "persist_directory = 'starknet'\n",
        "collection_name = 'starknet_index'\n",
        "\n",
        "# Load the vectorstore from disk\n",
        "vectordb = Chroma(collection_name=collection_name, \n",
        "                  persist_directory=persist_directory, \n",
        "                  embedding_function=embedding_model)\n",
        "\n",
        "from langchain.callbacks import get_openai_callback\n",
        "with get_openai_callback() as cb:\n",
        "    vectorstore = Chroma.from_documents(splitted_docs,\n",
        "                                        embedding_model, \n",
        "                                        collection_name=collection_name, \n",
        "                                        persist_directory=persist_directory)\n",
        "    vectorstore.persist()\n",
        "    print(cb)"
      ]
    },
    {
      "cell_type": "markdown",
      "metadata": {},
      "source": [
        "## search related docs "
      ]
    },
    {
      "cell_type": "code",
      "execution_count": 21,
      "metadata": {
        "id": "yBAx1_X-beQp"
      },
      "outputs": [
        {
          "name": "stdout",
          "output_type": "stream",
          "text": [
            "{'author': '', 'creationDate': \"D:20221031205028-04'00'\", 'creator': 'LaTeX with hyperref', 'file_path': '../Analysis-and-Comparison-between-Optimism-and-StarkNet.pdf', 'format': 'PDF 1.4', 'keywords': '', 'modDate': \"D:20221031205028-04'00'\", 'page': 35, 'producer': 'dvips + GPL Ghostscript GIT PRERELEASE 9.22', 'source': '../Analysis-and-Comparison-between-Optimism-and-StarkNet.pdf', 'subject': '', 'title': '', 'total_pages': 61, 'trapped': ''}\n",
            "StarkNet\n",
            "3.2.1\n",
            "Overview\n",
            "StarkNet is a Validity Rollup developed by StarkWare that uses the STARK proof system\n",
            "to validate its state on Ethereum. To facilitate the construction of validity proofs, a\n",
            "35\n",
            "{'author': '', 'creationDate': \"D:20221031205028-04'00'\", 'creator': 'LaTeX with hyperref', 'file_path': '../Analysis-and-Comparison-between-Optimism-and-StarkNet.pdf', 'format': 'PDF 1.4', 'keywords': '', 'modDate': \"D:20221031205028-04'00'\", 'page': 51, 'producer': 'dvips + GPL Ghostscript GIT PRERELEASE 9.22', 'source': '../Analysis-and-Comparison-between-Optimism-and-StarkNet.pdf', 'subject': '', 'title': '', 'total_pages': 61, 'trapped': ''}\n",
            "limited with a wider diversity of clients: Optimism can reuse in addition to geth the\n",
            "other Ethereum clients already maintained, and development of another Erigon-based\n",
            "client is already underway. In 2016 a problem in the memory management of geth was\n",
            "exploited for a DoS attack and the ﬁrst line of defense was to recommend the use of\n",
            "Parity, the second most used client at the time. StarkNet has the same problem with\n",
            "validity proofs, but the clients have to be written from scratch and the proof system is\n",
            "much more complex and consequently it is also much more complex to ensure correctness.\n",
            "Currently StarkNet has only one client and no others are being developed.\n",
            "4.5\n",
            "License\n",
            "StarkNet has often been the focus of attention because of its restrictive license. The\n",
            "Cairo language and toolchain adopt the Cairo Toolchain License [84]: it allows the use\n",
            "of Cairo for writing and compiling Cairo programs and other non-commercial uses such\n",
            "{'author': '', 'creationDate': \"D:20221031205028-04'00'\", 'creator': 'LaTeX with hyperref', 'file_path': '../Analysis-and-Comparison-between-Optimism-and-StarkNet.pdf', 'format': 'PDF 1.4', 'keywords': '', 'modDate': \"D:20221031205028-04'00'\", 'page': 54, 'producer': 'dvips + GPL Ghostscript GIT PRERELEASE 9.22', 'source': '../Analysis-and-Comparison-between-Optimism-and-StarkNet.pdf', 'subject': '', 'title': '', 'total_pages': 61, 'trapped': ''}\n",
            "Appendix\n",
            "StarkNet calldata value\n",
            "[0, 1, 78012987367078498244736967587441276376014206154405857948822581408104104410721,\n",
            "10, 49437887447255105617199385887980129590299043410906399897274339686664380574960,\n",
            "81613196144862953930755284412013485753825942725888221915012079651792110103808,\n",
            "77869845672245121662237546936898195077685970774400528945790634750486399986245,\n",
            "85558286294651018119282355933772523799565789757486469436870233741200601720903,\n",
            "90745439112799995280673958963319809841091902573630903294655608952911237510638,\n",
            "49, 72063704605688213715872376071514311689316615270384662374827175421482880125180,\n",
            "39047936296155467891523306114750972410898988810559128988743926746334839389254,\n",
            "89821206671539319279995197695429264123175493398319804842575199728181115252599,\n",
            "99, 47475753046911164737671950579172075423187336110653749106497219281656544366808,\n",
            "29, 30594499811872827545153257993174147177746163003834628645239607985359843108205,\n"
          ]
        }
      ],
      "source": [
        "query = \"What is starknet?\"\n",
        "related_docs = vectorstore.similarity_search(query, 3, include_metadata=True)\n",
        "\n",
        "for related_doc in related_docs:\n",
        "    print(related_doc.metadata)\n",
        "    print(related_doc.page_content)"
      ]
    },
    {
      "cell_type": "code",
      "execution_count": 22,
      "metadata": {
        "id": "V8hds-zybhfc"
      },
      "outputs": [
        {
          "name": "stdout",
          "output_type": "stream",
          "text": [
            "input_variables=['page_content'] output_parser=None partial_variables={} template='{page_content}' template_format='f-string' validate_template=True\n",
            "630\n",
            "StarkNet is a Validity Rollup developed by StarkWare that uses the STARK proof system to validate its state on Ethereum.\n",
            "Tokens Used: 664\n",
            "\tPrompt Tokens: 637\n",
            "\tCompletion Tokens: 27\n",
            "Successful Requests: 1\n",
            "Total Cost (USD): $0.0010095\n"
          ]
        }
      ],
      "source": [
        "from langchain.chains.question_answering import load_qa_chain\n",
        "\n",
        "chain = load_qa_chain(llm, chain_type=\"stuff\")\n",
        "print(chain.document_prompt)\n",
        "\n",
        "print(chain.prompt_length(related_docs, \n",
        "                          question='What is starknet?'))\n",
        "with get_openai_callback() as cb:\n",
        "    print(chain.run(input_documents=related_docs, question=query))\n",
        "    print(cb)"
      ]
    },
    {
      "cell_type": "code",
      "execution_count": null,
      "metadata": {},
      "outputs": [],
      "source": []
    },
    {
      "cell_type": "code",
      "execution_count": null,
      "metadata": {
        "id": "K3SlreQ2haC4",
        "outputId": "417ebd17-6bd3-431f-8699-3b9e81cd8911"
      },
      "outputs": [],
      "source": []
    },
    {
      "cell_type": "code",
      "execution_count": null,
      "metadata": {},
      "outputs": [],
      "source": []
    },
    {
      "cell_type": "code",
      "execution_count": null,
      "metadata": {
        "id": "zdF03LqphOQY",
        "outputId": "bc596972-7e39-479a-a921-5b17204f4b7f"
      },
      "outputs": [],
      "source": []
    },
    {
      "cell_type": "markdown",
      "metadata": {},
      "source": []
    }
  ],
  "metadata": {
    "colab": {
      "include_colab_link": true,
      "provenance": []
    },
    "kernelspec": {
      "display_name": "Python 3",
      "name": "python3"
    },
    "language_info": {
      "codemirror_mode": {
        "name": "ipython",
        "version": 3
      },
      "file_extension": ".py",
      "mimetype": "text/x-python",
      "name": "python",
      "nbconvert_exporter": "python",
      "pygments_lexer": "ipython3",
      "version": "3.10.12"
    }
  },
  "nbformat": 4,
  "nbformat_minor": 0
}
