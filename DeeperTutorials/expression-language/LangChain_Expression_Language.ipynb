{
  "cells": [
    {
      "cell_type": "markdown",
      "metadata": {
        "colab_type": "text",
        "id": "view-in-github"
      },
      "source": [
        "<a href=\"https://colab.research.google.com/github/sugarforever/LangChain-Tutorials/blob/main/LangChain_Expression_Language.ipynb\" target=\"_parent\"><img src=\"https://colab.research.google.com/assets/colab-badge.svg\" alt=\"Open In Colab\"/></a>"
      ]
    },
    {
      "cell_type": "markdown",
      "metadata": {
        "id": "OHpaChk4b5UN"
      },
      "source": [
        "# LangChain的新特性 - Expression Language\n",
        "\n",
        "`LangChain Expression Language` 是一种以声明式方法，轻松地将链或组件组合在一起的机制。通过利用管道操作符，构建的任何链将自动具有完整的同步、异步和流式支持。"
      ]
    },
    {
      "cell_type": "markdown",
      "metadata": {
        "id": "IAzbVA50cVt1"
      },
      "source": [
        "## Python管道 - Pipe\n",
        "\n",
        "`Python` 的 `Pipe` 提供了管道实现。请参考 [https://github.com/JulienPalard/Pipe](https://github.com/JulienPalard/Pipe)。 来看几个例子"
      ]
    },
    {
      "cell_type": "markdown",
      "metadata": {
        "id": "BL8UBSkOkAVC"
      },
      "source": [
        "### 安装"
      ]
    },
    {
      "cell_type": "code",
      "execution_count": 3,
      "metadata": {
        "colab": {
          "base_uri": "https://localhost:8080/"
        },
        "id": "pzj4WvdHbeRn",
        "outputId": "8ccdd25b-9056-4002-9f70-daf8d3d8d8fa"
      },
      "outputs": [],
      "source": [
        "# !pip install -U pipe"
      ]
    },
    {
      "cell_type": "markdown",
      "metadata": {
        "id": "-cVz9DNDkEYr"
      },
      "source": [
        "### 最简单一个例子"
      ]
    },
    {
      "cell_type": "code",
      "execution_count": 4,
      "metadata": {
        "colab": {
          "base_uri": "https://localhost:8080/"
        },
        "id": "-9a39Tepgy58",
        "outputId": "7119d313-7b21-42d4-ea61-866737ce02b0"
      },
      "outputs": [
        {
          "data": {
            "text/plain": [
              "[4, 8]"
            ]
          },
          "execution_count": 4,
          "metadata": {},
          "output_type": "execute_result"
        }
      ],
      "source": [
        "from pipe import select, where\n",
        "\n",
        "numbers = [1, 2, 3, 4, 5]\n",
        "result = list(numbers | where(lambda x: x % 2 == 0) | select(lambda x: x * 2))\n",
        "\n",
        "result"
      ]
    },
    {
      "cell_type": "markdown",
      "metadata": {
        "id": "X6hYiTkYkJ-L"
      },
      "source": [
        "### 小小进阶\n",
        "\n",
        "自定义管道 `uppercase` - 接受一个 `iterable` 参数"
      ]
    },
    {
      "cell_type": "code",
      "execution_count": 5,
      "metadata": {
        "colab": {
          "base_uri": "https://localhost:8080/"
        },
        "id": "rwhNhNzSkOHC",
        "outputId": "6a69c76c-ac24-49bc-e06f-cfb8c7d659d8"
      },
      "outputs": [
        {
          "data": {
            "text/plain": [
              "['red', 'green', 'blue', 'yellow']"
            ]
          },
          "execution_count": 5,
          "metadata": {},
          "output_type": "execute_result"
        }
      ],
      "source": [
        "from pipe import Pipe\n",
        "\n",
        "uppercase = Pipe(lambda iterable: (x.lower() for x in iterable))\n",
        "\n",
        "words = ['red', 'green', 'blue', 'YELLOW']\n",
        "\n",
        "uppercase_words = list(words | uppercase)\n",
        "\n",
        "uppercase_words"
      ]
    },
    {
      "cell_type": "markdown",
      "metadata": {
        "id": "3c8vpUz3lSEt"
      },
      "source": [
        "## LangChain Expression Language与管道\n",
        "\n",
        "`LEL` 通过管道定义操作序列，帮助程序员以更加优雅简洁的编码方式构建功能逻辑。我们来看看如何通过表达式来重构几个经典的LangChain实例。"
      ]
    },
    {
      "cell_type": "markdown",
      "metadata": {
        "id": "bcAYqmcAmLiY"
      },
      "source": [
        "### 安装\n",
        "\n",
        "我们需要安装最新版本的 `langchain` 以确保具有 `LEL` 功能的支持。"
      ]
    },
    {
      "cell_type": "code",
      "execution_count": 6,
      "metadata": {
        "id": "QKFeM3t0mbQQ"
      },
      "outputs": [],
      "source": [
        "# !pip install -q -U langchain openai"
      ]
    },
    {
      "cell_type": "markdown",
      "metadata": {
        "id": "dIiNbIYimmSa"
      },
      "source": [
        "### 提示词模版与模型\n"
      ]
    },
    {
      "cell_type": "code",
      "execution_count": 7,
      "metadata": {
        "id": "xCEJ_9XEs6jA"
      },
      "outputs": [],
      "source": [
        "import os\n",
        "import openai\n",
        "import sys\n",
        "sys.path.append('../..')\n",
        "\n",
        "from dotenv import load_dotenv, find_dotenv\n",
        "_ = load_dotenv(find_dotenv()) \n",
        "\n",
        "\n",
        "# openai.api_key  = os.environ['OPENAI_API_KEY']"
      ]
    },
    {
      "cell_type": "markdown",
      "metadata": {
        "id": "ivCfgUk5rFn6"
      },
      "source": [
        "#### 提示词模板与模型的传统用法"
      ]
    },
    {
      "cell_type": "code",
      "execution_count": 14,
      "metadata": {
        "colab": {
          "base_uri": "https://localhost:8080/",
          "height": 36
        },
        "id": "liG2Oc3ZrHWw",
        "outputId": "98b2fbb4-de33-4cbc-b1a7-4427af5f704a"
      },
      "outputs": [
        {
          "data": {
            "text/plain": [
              "'\\n\\nHEX code for the color red is #FF0000.'"
            ]
          },
          "execution_count": 14,
          "metadata": {},
          "output_type": "execute_result"
        }
      ],
      "source": [
        "from langchain.prompts import (\n",
        "    ChatPromptTemplate,\n",
        "    HumanMessagePromptTemplate,\n",
        ")\n",
        "from langchain.schema import (\n",
        "    HumanMessage\n",
        ")\n",
        "from langchain.chains import LLMChain\n",
        "from langchain.llms import OpenAI \n",
        "\n",
        "# llm = \n",
        "\n",
        "human_template=\"Show me the HEX code of color {color_name}\"\n",
        "human_message_prompt = HumanMessagePromptTemplate.from_template(human_template)\n",
        "\n",
        "chat_prompt = ChatPromptTemplate.from_messages([human_message_prompt])\n",
        "chain = LLMChain(llm=OpenAI(), prompt=chat_prompt)\n",
        "\n",
        "chain.run(\"RED\")"
      ]
    },
    {
      "cell_type": "markdown",
      "metadata": {
        "id": "skH8OpgIrKP7"
      },
      "source": [
        "#### 通过 `LEL` 连接提示词模板与模型"
      ]
    },
    {
      "cell_type": "code",
      "execution_count": 16,
      "metadata": {
        "colab": {
          "base_uri": "https://localhost:8080/"
        },
        "id": "Ml1opV6bmq9z",
        "outputId": "b05b45af-5f6f-4f9a-f6ec-c1f40e9cee46"
      },
      "outputs": [
        {
          "data": {
            "text/plain": [
              "AIMessage(content='The HEX code of the color red is #FF0000.', additional_kwargs={}, example=False)"
            ]
          },
          "execution_count": 16,
          "metadata": {},
          "output_type": "execute_result"
        }
      ],
      "source": [
        "from langchain.prompts import ChatPromptTemplate\n",
        "from langchain.chat_models import ChatOpenAI\n",
        "\n",
        "model = ChatOpenAI()\n",
        "prompt = ChatPromptTemplate.from_template(\"Show me the HEX code of color {color_name}\")\n",
        "\n",
        "chain = prompt | model\n",
        "\n",
        "chain.invoke({\"color_name\": \"RED\"})"
      ]
    },
    {
      "cell_type": "markdown",
      "metadata": {
        "id": "XuKN7l61uTRO"
      },
      "source": [
        "### 一个稍稍复杂的例子\n",
        "\n",
        "现在我们给刚才搭建的管道追加一些环节"
      ]
    },
    {
      "cell_type": "markdown",
      "metadata": {
        "id": "TBJtYNrMwk8k"
      },
      "source": [
        "#### 添加标准输出解析"
      ]
    },
    {
      "cell_type": "code",
      "execution_count": 17,
      "metadata": {
        "colab": {
          "base_uri": "https://localhost:8080/",
          "height": 36
        },
        "id": "eEDRWAYxuaIj",
        "outputId": "814a655d-6aca-44f2-ca96-3b7e48882e33"
      },
      "outputs": [
        {
          "data": {
            "text/plain": [
              "'The HEX code for the color red is #FF0000.'"
            ]
          },
          "execution_count": 17,
          "metadata": {},
          "output_type": "execute_result"
        }
      ],
      "source": [
        "from langchain.schema.output_parser import StrOutputParser\n",
        "\n",
        "chain = prompt | model | StrOutputParser()\n",
        "\n",
        "chain.invoke({\"color_name\": \"RED\"})"
      ]
    },
    {
      "cell_type": "markdown",
      "metadata": {
        "id": "y2YheMkRxGrg"
      },
      "source": [
        "#### 添加函数调用\n",
        "\n",
        "我们来给管道中的模型添加一些函数调用。注，我们并不真正调用函数，只解析出函数调用的数据。\n",
        "\n",
        "`JsonOutputFunctionsParser` 用来将函数调用的回复解析为JSON格式，请参考[API 文档](https://api.python.langchain.com/en/latest/output_parsers/langchain.output_parsers.openai_functions.JsonKeyOutputFunctionsParser.html)"
      ]
    },
    {
      "cell_type": "code",
      "execution_count": 22,
      "metadata": {
        "colab": {
          "base_uri": "https://localhost:8080/"
        },
        "id": "obpu_uLAyGS5",
        "outputId": "c8c45e4f-c159-4fe3-fd00-9d21b3b55f46"
      },
      "outputs": [
        {
          "data": {
            "text/plain": [
              "{'hex_code': '#FF0000', 'color': 'RED'}"
            ]
          },
          "execution_count": 22,
          "metadata": {},
          "output_type": "execute_result"
        }
      ],
      "source": [
        "from langchain.output_parsers.openai_functions import JsonOutputFunctionsParser\n",
        "\n",
        "functions = [\n",
        "    {\n",
        "      \"name\": \"save_color_code\",\n",
        "      \"description\": \"Save the HEX code of color and its name\",\n",
        "      \"parameters\": {\n",
        "        \"type\": \"object\",\n",
        "        \"properties\": {\n",
        "          \"hex_code\": {\n",
        "            \"type\": \"string\",\n",
        "            \"description\": \"The HEX code of the color\"\n",
        "          },\n",
        "          \"color\": {\n",
        "            \"type\": \"string\",\n",
        "            \"description\": \"The color name\"\n",
        "          }\n",
        "        },\n",
        "        \"required\": [\"hex_code\", \"color\"]\n",
        "      }\n",
        "    }\n",
        "  ]\n",
        "chain = prompt | model.bind(function_call = {\"name\": \"save_color_code\"}, functions = functions) | JsonOutputFunctionsParser()\n",
        "\n",
        "chain.invoke({\"color_name\": \"RED\"})\n",
        "chain.invoke({\"input\": \"hi\",\"color_name\": \"RED\"})"
      ]
    }
  ],
  "metadata": {
    "colab": {
      "authorship_tag": "ABX9TyNczSLtaIeZJPFolwCjTueW",
      "include_colab_link": true,
      "provenance": []
    },
    "kernelspec": {
      "display_name": "Python 3",
      "name": "python3"
    },
    "language_info": {
      "codemirror_mode": {
        "name": "ipython",
        "version": 3
      },
      "file_extension": ".py",
      "mimetype": "text/x-python",
      "name": "python",
      "nbconvert_exporter": "python",
      "pygments_lexer": "ipython3",
      "version": "3.10.12"
    }
  },
  "nbformat": 4,
  "nbformat_minor": 0
}
