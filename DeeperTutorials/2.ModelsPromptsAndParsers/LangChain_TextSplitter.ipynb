{
  "cells": [
    {
      "cell_type": "markdown",
      "metadata": {
        "colab_type": "text",
        "id": "view-in-github"
      },
      "source": [
        "<a href=\"https://colab.research.google.com/github/sugarforever/LangChain-Tutorials/blob/main/LangChain_TextSplitter.ipynb\" target=\"_parent\"><img src=\"https://colab.research.google.com/assets/colab-badge.svg\" alt=\"Open In Colab\"/></a>"
      ]
    },
    {
      "cell_type": "markdown",
      "metadata": {
        "id": "amP-lCFgKUb-"
      },
      "source": [
        "In this notebook, I will show you the main text splitters LangChain framework supports."
      ]
    },
    {
      "cell_type": "code",
      "execution_count": 7,
      "metadata": {
        "id": "TO7WJgpwKLA-"
      },
      "outputs": [],
      "source": [
        "# !pip install -qU langchain"
      ]
    },
    {
      "cell_type": "code",
      "execution_count": 8,
      "metadata": {
        "id": "vwX4O06HUSye"
      },
      "outputs": [],
      "source": [
        "long_text = '''\n",
        "WASHINGTON (Reuters) -Former U.S. President Donald Trump faces 37 criminal counts including charges of unauthorized retention of classified documents and conspiracy to obstruct justice after leaving the White House in 2021, according to federal court documents made public on Friday.\n",
        "\n",
        "The Justice Department made the charging documents public on a tumultuous day in which two of Trump's lawyers quit the case and a former aide face charges as well.\n",
        "\n",
        "The charges stem from Trump's treatment of sensitive government materials he took with him when he left the White House in January 2021.\n",
        "\n",
        "He is due to make a first court appearance in the case in a Miami court on Tuesday, a day before his 77th birthday.\n",
        "\n",
        "The indictment of a former U.S. president on federal charges is unprecedented in American history and emerges at a time when Trump is the front-runner for the Republican presidential nomination next year.\n",
        "\n",
        "Investigators seized roughly 13,000 documents from Trump's Mar-a-Lago estate in Palm Beach, Florida, nearly a year ago. One hundred were marked as classified, even though one of Trump's lawyers had previously said all records with classified markings had been returned to the government.\n",
        "'''"
      ]
    },
    {
      "cell_type": "markdown",
      "metadata": {
        "id": "CAO_cdXlJwf-"
      },
      "source": [
        "# CharacterTextSplitter"
      ]
    },
    {
      "cell_type": "code",
      "execution_count": 9,
      "metadata": {
        "id": "ISg0Zv8yKfVi"
      },
      "outputs": [],
      "source": [
        "from langchain.text_splitter import CharacterTextSplitter"
      ]
    },
    {
      "cell_type": "code",
      "execution_count": 10,
      "metadata": {
        "colab": {
          "base_uri": "https://localhost:8080/"
        },
        "id": "VciFcr6sUr94",
        "outputId": "3482f157-47db-4f9c-df46-bbe0de490218"
      },
      "outputs": [
        {
          "name": "stderr",
          "output_type": "stream",
          "text": [
            "Created a chunk of size 283, which is longer than the specified 100\n",
            "Created a chunk of size 163, which is longer than the specified 100\n",
            "Created a chunk of size 136, which is longer than the specified 100\n",
            "Created a chunk of size 115, which is longer than the specified 100\n",
            "Created a chunk of size 204, which is longer than the specified 100\n"
          ]
        },
        {
          "name": "stdout",
          "output_type": "stream",
          "text": [
            "WASHINGTON (Reuters) -Former U.S. President Donald Trump faces 37 criminal counts including charges of unauthorized retention of classified documents and conspiracy to obstruct justice after leaving the White House in 2021, according to federal court documents made public on Friday.\n",
            "The Justice Department made the charging documents public on a tumultuous day in which two of Trump's lawyers quit the case and a former aide face charges as well.\n"
          ]
        }
      ],
      "source": [
        "text_splitter = CharacterTextSplitter(        \n",
        "    chunk_size = 100,\n",
        "    chunk_overlap  = 10,\n",
        "    length_function = len,\n",
        "    separator = \"\\n\",\n",
        ")\n",
        "\n",
        "documents = text_splitter.create_documents([long_text])\n",
        "print(documents[0].page_content)\n",
        "print(documents[1].page_content)"
      ]
    },
    {
      "cell_type": "markdown",
      "metadata": {
        "id": "zw2Wh3u_J0EV"
      },
      "source": [
        "# RecursiveCharacterTextSplitter"
      ]
    },
    {
      "cell_type": "code",
      "execution_count": 11,
      "metadata": {
        "id": "i6dJm78aC6C_"
      },
      "outputs": [],
      "source": [
        "from langchain.text_splitter import RecursiveCharacterTextSplitter"
      ]
    },
    {
      "cell_type": "code",
      "execution_count": 12,
      "metadata": {
        "colab": {
          "base_uri": "https://localhost:8080/"
        },
        "id": "Ep6YoDaXC9rM",
        "outputId": "427eaf1f-a5a4-4b98-b157-27a9099a5fa3"
      },
      "outputs": [
        {
          "name": "stdout",
          "output_type": "stream",
          "text": [
            "page_content='WASHINGTON (Reuters) -Former U.S. President' metadata={'start_index': 1}\n",
            "page_content='President Donald Trump faces 37 criminal counts' metadata={'start_index': 35}\n",
            "47\n"
          ]
        }
      ],
      "source": [
        "text_splitter = RecursiveCharacterTextSplitter(\n",
        "    chunk_size = 50,\n",
        "    chunk_overlap  = 10,\n",
        "    length_function = len,\n",
        "    add_start_index = True\n",
        ")\n",
        "\n",
        "documents = text_splitter.create_documents([long_text])\n",
        "print(documents[0])\n",
        "print(documents[1])\n",
        "print(len(documents[1].page_content))"
      ]
    },
    {
      "cell_type": "markdown",
      "metadata": {
        "id": "o5k-2CspJ4kP"
      },
      "source": [
        "# TokenTextSplitter"
      ]
    },
    {
      "cell_type": "code",
      "execution_count": 13,
      "metadata": {
        "id": "q9lZ0lfLFUZG"
      },
      "outputs": [],
      "source": [
        "from langchain.text_splitter import TokenTextSplitter\n",
        "text_splitter = TokenTextSplitter(\n",
        "    encoding_name = \"p50k_base\",\n",
        "    chunk_size=50,\n",
        "    chunk_overlap=0\n",
        ")"
      ]
    },
    {
      "cell_type": "code",
      "execution_count": 14,
      "metadata": {
        "colab": {
          "base_uri": "https://localhost:8080/"
        },
        "id": "0iucjqxDFYSC",
        "outputId": "83845a19-8811-4865-8340-a9d7d512afb2"
      },
      "outputs": [
        {
          "name": "stdout",
          "output_type": "stream",
          "text": [
            "page_content='\\nWASHINGTON (Reuters) -Former U.S. President Donald Trump faces 37 criminal counts including charges of unauthorized retention of classified documents and conspiracy to obstruct justice after leaving the White House in 2021, according to federal court documents made public on Friday.\\n' metadata={}\n"
          ]
        }
      ],
      "source": [
        "documents = text_splitter.create_documents([long_text])\n",
        "print(documents[0])"
      ]
    },
    {
      "cell_type": "code",
      "execution_count": 15,
      "metadata": {
        "colab": {
          "base_uri": "https://localhost:8080/"
        },
        "id": "KvIK0pgdYO00",
        "outputId": "a73fcf64-c70d-44e3-b670-d6e5a61baf5a"
      },
      "outputs": [
        {
          "name": "stdout",
          "output_type": "stream",
          "text": [
            "page_content=\"\\nThe Justice Department made the charging documents public on a tumultuous day in which two of Trump's lawyers quit the case and a former aide face charges as well.\\n\\nThe charges stem from Trump's treatment of sensitive government materials he took with him when\" metadata={}\n"
          ]
        }
      ],
      "source": [
        "print(documents[1])"
      ]
    },
    {
      "cell_type": "code",
      "execution_count": 17,
      "metadata": {
        "colab": {
          "base_uri": "https://localhost:8080/"
        },
        "id": "413dzpLfFymc",
        "outputId": "bff7c8bc-e3db-4a7b-8a1e-ce7058fd6e1e"
      },
      "outputs": [
        {
          "name": "stdout",
          "output_type": "stream",
          "text": [
            "50\n",
            "50\n",
            "50\n"
          ]
        }
      ],
      "source": [
        "import tiktoken\n",
        "encoding_for_davinci = tiktoken.encoding_for_model(\"text-davinci-002\")\n",
        "\n",
        "print(len(encoding_for_davinci.encode(documents[0].page_content)))\n",
        "print(len(encoding_for_davinci.encode(documents[1].page_content)))\n",
        "print(len(encoding_for_davinci.encode(documents[2].page_content)))"
      ]
    },
    {
      "cell_type": "code",
      "execution_count": 18,
      "metadata": {
        "colab": {
          "base_uri": "https://localhost:8080/"
        },
        "id": "ZRGx3pdWZJuh",
        "outputId": "db790f9c-430b-472a-a95c-6c14943787ae"
      },
      "outputs": [
        {
          "name": "stdout",
          "output_type": "stream",
          "text": [
            "[198, 21793, 357, 12637, 8, 532, 14282, 471, 13, 50, 13, 1992, 3759, 1301, 6698, 5214, 4301, 9853, 1390, 4530, 286, 22959, 21545, 286, 10090, 4963, 290, 10086, 284, 26520, 5316, 706, 4305, 262, 2635, 2097, 287, 33448, 11, 1864, 284, 2717, 2184, 4963, 925, 1171, 319, 3217, 13, 198]\n",
            "50\n"
          ]
        }
      ],
      "source": [
        "print(encoding_for_davinci.encode(documents[0].page_content))\n",
        "print(len(encoding_for_davinci.encode(documents[0].page_content)))"
      ]
    }
  ],
  "metadata": {
    "accelerator": "GPU",
    "colab": {
      "authorship_tag": "ABX9TyPMVWfftf8OvHN6BWqQwq5N",
      "gpuType": "T4",
      "include_colab_link": true,
      "provenance": []
    },
    "kernelspec": {
      "display_name": "Python 3",
      "name": "python3"
    },
    "language_info": {
      "codemirror_mode": {
        "name": "ipython",
        "version": 3
      },
      "file_extension": ".py",
      "mimetype": "text/x-python",
      "name": "python",
      "nbconvert_exporter": "python",
      "pygments_lexer": "ipython3",
      "version": "3.10.12"
    }
  },
  "nbformat": 4,
  "nbformat_minor": 0
}
