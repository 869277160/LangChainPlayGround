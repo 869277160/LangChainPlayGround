{
 "cells": [
  {
   "cell_type": "code",
   "execution_count": 1,
   "id": "d3058a52",
   "metadata": {},
   "outputs": [
    {
     "name": "stderr",
     "output_type": "stream",
     "text": [
      "d:\\Anaconda3\\envs\\LLM\\lib\\site-packages\\numpy\\_distributor_init.py:30: UserWarning: loaded more than 1 DLL from .libs:\n",
      "d:\\Anaconda3\\envs\\LLM\\lib\\site-packages\\numpy\\.libs\\libopenblas.FB5AE2TYXYH2IJRDKGDGQ3XBKLKTF43H.gfortran-win_amd64.dll\n",
      "d:\\Anaconda3\\envs\\LLM\\lib\\site-packages\\numpy\\.libs\\libopenblas64__v0.3.23-246-g3d31191b-gcc_10_3_0.dll\n",
      "  warnings.warn(\"loaded more than 1 DLL from .libs:\"\n"
     ]
    }
   ],
   "source": [
    "from langchain.document_loaders import UnstructuredURLLoader\n",
    "from langchain.chains.summarize import load_summarize_chain\n",
    "from langchain.text_splitter import RecursiveCharacterTextSplitter\n",
    "\n",
    "from langchain.llms import OpenAI\n",
    "from langchain.prompts import PromptTemplate"
   ]
  },
  {
   "cell_type": "code",
   "execution_count": 2,
   "id": "615ee4b1",
   "metadata": {
    "hide_input": false
   },
   "outputs": [
    {
     "name": "stderr",
     "output_type": "stream",
     "text": [
      "d:\\Anaconda3\\envs\\LLM\\lib\\site-packages\\langchain\\llms\\openai.py:201: UserWarning: You are trying to use a chat model. This way of initializing it is no longer supported. Instead, please use: `from langchain.chat_models import ChatOpenAI`\n",
      "  warnings.warn(\n",
      "d:\\Anaconda3\\envs\\LLM\\lib\\site-packages\\langchain\\llms\\openai.py:786: UserWarning: You are trying to use a chat model. This way of initializing it is no longer supported. Instead, please use: `from langchain.chat_models import ChatOpenAI`\n",
      "  warnings.warn(\n"
     ]
    }
   ],
   "source": [
    "import os, sys\n",
    "import openai\n",
    "import langchain\n",
    "sys.path.append('../..')\n",
    "\n",
    "from dotenv import load_dotenv, find_dotenv\n",
    "_ = load_dotenv(find_dotenv()) \n",
    "\n",
    "\n",
    "openai.api_base = os.environ[\"OPENAI_API_BASE\"] # 换成代理，一定要加v1\n",
    "openai.api_key = os.environ[\"OPENAI_API_KEY\"]\n",
    "\n",
    "from langchain.llms import OpenAI\n",
    "from langchain.chat_models import ChatOpenAI\n",
    "\n",
    "llm = OpenAI(\n",
    "    temperature=0.0,\n",
    "    model_name=\"gpt-3.5-turbo\",\n",
    ")"
   ]
  },
  {
   "cell_type": "markdown",
   "id": "c611b91a",
   "metadata": {},
   "source": [
    "### Load up your HTML from your company page"
   ]
  },
  {
   "cell_type": "code",
   "execution_count": 12,
   "id": "69d427bb",
   "metadata": {},
   "outputs": [
    {
     "name": "stdout",
     "output_type": "stream",
     "text": [
      "https://www.ycombinator.com/companies/Gitlab\n",
      "You have 1 document(s)\n",
      "Preview of your data:\n",
      "\n",
      "404\n",
      "\n",
      "File Not Found\n",
      "\n",
      "Back to t\n",
      "You now have 1 documents\n"
     ]
    }
   ],
   "source": [
    "def get_company_page(company_path):\n",
    "    y_combinator_url = f\"https://www.ycombinator.com{company_path}\"\n",
    "    \n",
    "    print (y_combinator_url)\n",
    "\n",
    "    loader = UnstructuredURLLoader(urls=[y_combinator_url])\n",
    "    return loader.load()\n",
    "\n",
    "\n",
    "# Get the data of the company you're interested in\n",
    "data = get_company_page(\"/companies/Gitlab\")\n",
    "\n",
    "print (f\"You have {len(data)} document(s)\")\n",
    "print (f\"Preview of your data:\\n\\n{data[0].page_content[:30]}\")\n",
    "\n",
    "\n",
    "# Split up the texts so you don't run into token limits\n",
    "text_splitter = RecursiveCharacterTextSplitter(\n",
    "    # Set a really small chunk size, just to show.\n",
    "    chunk_size = 800,\n",
    "    chunk_overlap  = 0\n",
    ")\n",
    "docs = text_splitter.split_documents(data)\n",
    "print (f\"You now have {len(docs)} documents\")\n"
   ]
  },
  {
   "cell_type": "markdown",
   "id": "515de61f",
   "metadata": {},
   "source": [
    "### Write your custom prompt templates\n",
    "These will be used for your specific use case:\n",
    "\n",
    "1. `map_prompt` will be the prompt that is done on your first pass of your documents\n",
    "2. `combine_prompt` will be the prompt that is used when you combine the outputs of your map pass"
   ]
  },
  {
   "cell_type": "code",
   "execution_count": 4,
   "id": "fb34ba34",
   "metadata": {},
   "outputs": [],
   "source": [
    "map_prompt = \"\"\"Below is a section of a website about {prospect}\n",
    "\n",
    "Write a concise summary about {prospect}. If the information is not about {prospect}, exclude it from your summary.\n",
    "\n",
    "{text}\n",
    "\n",
    "% CONCISE SUMMARY:\"\"\"\n",
    "map_prompt_template = PromptTemplate(template=map_prompt, input_variables=[\"text\", \"prospect\"])"
   ]
  },
  {
   "cell_type": "code",
   "execution_count": 5,
   "id": "481b1fe2",
   "metadata": {},
   "outputs": [],
   "source": [
    "combine_prompt = \"\"\"\n",
    "Your goal is to write a personalized outbound email from {sales_rep}, a sales rep at {company} to {prospect}.\n",
    "\n",
    "A good email is personalized and combines information about the two companies on how they can help each other.\n",
    "Be sure to use value selling: A sales methodology that focuses on how your product or service will provide value to the customer instead of focusing on price or solution.\n",
    "\n",
    "% INFORMATION ABOUT {company}:\n",
    "{company_information}\n",
    "\n",
    "% INFORMATION ABOUT {prospect}:\n",
    "{text}\n",
    "\n",
    "% INCLUDE THE FOLLOWING PIECES IN YOUR RESPONSE:\n",
    "- Start the email with the sentence: \"We love that {prospect} helps teams...\" then insert what they help teams do.\n",
    "- The sentence: \"We can help you do XYZ by ABC\" Replace XYZ with what {prospect} does and ABC with what {company} does \n",
    "- A 1-2 sentence description about {company}, be brief\n",
    "- End your email with a call-to-action such as asking them to set up time to talk more\n",
    "\n",
    "% YOUR RESPONSE:\n",
    "\"\"\"\n",
    "combine_prompt_template = PromptTemplate(template=combine_prompt, input_variables=[\"sales_rep\", \"company\", \"prospect\", \\\n",
    "                                                                         \"text\", \"company_information\"])"
   ]
  },
  {
   "cell_type": "code",
   "execution_count": 6,
   "id": "340842c5",
   "metadata": {},
   "outputs": [],
   "source": [
    "company_information = \"\"\"\n",
    "* RapidRoad helps product teams build product faster\n",
    "* We have a platform that allows product teams to talk more, exchange ideas, and listen to more customers\n",
    "* Automated project tracking: RapidRoad could use machine learning algorithms to automatically track project progress, identify potential bottlenecks, and suggest ways to optimize workflows. This could help product teams stay on track and deliver faster results.\n",
    "* Collaboration tools: RapidRoad could offer built-in collaboration tools, such as shared task lists, real-time messaging, and team calendars. This would make it easier for teams to communicate and work together, even if they are in different locations or time zones.\n",
    "* Agile methodology support: RapidRoad could be specifically designed to support agile development methodologies, such as Scrum or Kanban. This could include features like sprint planning, backlog management, and burndown charts, which would help teams stay organized and focused on their goals.\n",
    "\"\"\""
   ]
  },
  {
   "cell_type": "markdown",
   "id": "82406bae",
   "metadata": {},
   "source": [
    "### LangChain Magic"
   ]
  },
  {
   "cell_type": "code",
   "execution_count": 8,
   "id": "32f28761",
   "metadata": {},
   "outputs": [],
   "source": [
    "llm = OpenAI(temperature=.7)\n",
    "\n",
    "chain = load_summarize_chain(llm,\n",
    "                             chain_type=\"map_reduce\",\n",
    "                             map_prompt=map_prompt_template,\n",
    "                             combine_prompt=combine_prompt_template,\n",
    "                             verbose=True\n",
    "                            )"
   ]
  },
  {
   "cell_type": "code",
   "execution_count": 13,
   "id": "5b556562",
   "metadata": {},
   "outputs": [
    {
     "name": "stdout",
     "output_type": "stream",
     "text": [
      "\n",
      "\n",
      "\u001b[1m> Entering new MapReduceDocumentsChain chain...\u001b[0m\n",
      "\n",
      "\n",
      "\u001b[1m> Entering new LLMChain chain...\u001b[0m\n",
      "Prompt after formatting:\n",
      "\u001b[32;1m\u001b[1;3mBelow is a section of a website about Gitlab\n",
      "\n",
      "Write a concise summary about Gitlab. If the information is not about Gitlab, exclude it from your summary.\n",
      "\n",
      "404\n",
      "\n",
      "File Not Found\n",
      "\n",
      "Back to the homepage\n",
      "\n",
      "For support please contact software@ycombinator.com\n",
      "\n",
      "% CONCISE SUMMARY:\u001b[0m\n",
      "\n",
      "\u001b[1m> Finished chain.\u001b[0m\n",
      "\n",
      "\n",
      "\u001b[1m> Entering new LLMChain chain...\u001b[0m\n",
      "Prompt after formatting:\n",
      "\u001b[32;1m\u001b[1;3m\n",
      "Your goal is to write a personalized outbound email from Greg, a sales rep at RapidRoad to Gitlab.\n",
      "\n",
      "A good email is personalized and combines information about the two companies on how they can help each other.\n",
      "Be sure to use value selling: A sales methodology that focuses on how your product or service will provide value to the customer instead of focusing on price or solution.\n",
      "\n",
      "% INFORMATION ABOUT RapidRoad:\n",
      "\n",
      "* RapidRoad helps product teams build product faster\n",
      "* We have a platform that allows product teams to talk more, exchange ideas, and listen to more customers\n",
      "* Automated project tracking: RapidRoad could use machine learning algorithms to automatically track project progress, identify potential bottlenecks, and suggest ways to optimize workflows. This could help product teams stay on track and deliver faster results.\n",
      "* Collaboration tools: RapidRoad could offer built-in collaboration tools, such as shared task lists, real-time messaging, and team calendars. This would make it easier for teams to communicate and work together, even if they are in different locations or time zones.\n",
      "* Agile methodology support: RapidRoad could be specifically designed to support agile development methodologies, such as Scrum or Kanban. This could include features like sprint planning, backlog management, and burndown charts, which would help teams stay organized and focused on their goals.\n",
      "\n",
      "\n",
      "% INFORMATION ABOUT Gitlab:\n",
      "\n",
      "Gitlab is a web-based platform for hosting and managing source code projects. It provides tools for project planning, code review, and continuous integration.\n",
      "\n",
      "% INCLUDE THE FOLLOWING PIECES IN YOUR RESPONSE:\n",
      "- Start the email with the sentence: \"We love that Gitlab helps teams...\" then insert what they help teams do.\n",
      "- The sentence: \"We can help you do XYZ by ABC\" Replace XYZ with what Gitlab does and ABC with what RapidRoad does \n",
      "- A 1-2 sentence description about RapidRoad, be brief\n",
      "- End your email with a call-to-action such as asking them to set up time to talk more\n",
      "\n",
      "% YOUR RESPONSE:\n",
      "\u001b[0m\n",
      "\n",
      "\u001b[1m> Finished chain.\u001b[0m\n",
      "\n",
      "\u001b[1m> Finished chain.\u001b[0m\n"
     ]
    }
   ],
   "source": [
    "output = chain({\"input_documents\": docs, # The seven docs that were created before\n",
    "                \"company\": \"RapidRoad\", \\\n",
    "                \"company_information\" : company_information,\n",
    "                \"sales_rep\" : \"Greg\", \\\n",
    "                \"prospect\" : \"Gitlab\"\n",
    "               })"
   ]
  },
  {
   "cell_type": "code",
   "execution_count": 14,
   "id": "c3152c06",
   "metadata": {},
   "outputs": [
    {
     "name": "stdout",
     "output_type": "stream",
     "text": [
      "\n",
      "Dear GitLab Team,\n",
      "\n",
      "We love that GitLab helps teams develop, deploy, and operate software quickly and efficiently. We believe that RapidRoad can help make the development process even faster and more productive.\n",
      "\n",
      "RapidRoad is a platform that helps product teams build products faster. We have automated project tracking, collaboration tools, and agile methodology support that can help teams stay organized and focused on their goals.\n",
      "\n",
      "We can help you develop, deploy, and operate software quickly and efficiently by providing automated project tracking, collaboration tools, and agile methodology support. We believe this can help you deliver faster results and achieve your product goals.\n",
      "\n",
      "We'd love to chat more about how our platform can help you and your team. Please let me know if you have a few minutes to discuss further.\n",
      "\n",
      "Best,\n",
      "\n",
      "Greg\n",
      "RapidRoad Sales Rep\n"
     ]
    }
   ],
   "source": [
    "print (output['output_text'])"
   ]
  },
  {
   "cell_type": "markdown",
   "id": "5491e5bb",
   "metadata": {},
   "source": [
    "### Rinse and Repeat: Loop Through Companies"
   ]
  },
  {
   "cell_type": "code",
   "execution_count": 20,
   "id": "ddf9a955",
   "metadata": {},
   "outputs": [],
   "source": [
    "import pandas as pd"
   ]
  },
  {
   "cell_type": "code",
   "execution_count": 16,
   "id": "70e22389",
   "metadata": {},
   "outputs": [],
   "source": [
    "df_companies = pd.read_clipboard()"
   ]
  },
  {
   "cell_type": "code",
   "execution_count": 19,
   "id": "fca1ffb3",
   "metadata": {},
   "outputs": [
    {
     "data": {
      "text/html": [
       "<div>\n",
       "<style scoped>\n",
       "    .dataframe tbody tr th:only-of-type {\n",
       "        vertical-align: middle;\n",
       "    }\n",
       "\n",
       "    .dataframe tbody tr th {\n",
       "        vertical-align: top;\n",
       "    }\n",
       "\n",
       "    .dataframe thead th {\n",
       "        text-align: right;\n",
       "    }\n",
       "</style>\n",
       "<table border=\"1\" class=\"dataframe\">\n",
       "  <thead>\n",
       "    <tr style=\"text-align: right;\">\n",
       "      <th></th>\n",
       "      <th>pip</th>\n",
       "      <th>install</th>\n",
       "      <th>python-magic-bin==0.4.14</th>\n",
       "    </tr>\n",
       "  </thead>\n",
       "  <tbody>\n",
       "  </tbody>\n",
       "</table>\n",
       "</div>"
      ],
      "text/plain": [
       "Empty DataFrame\n",
       "Columns: [pip, install, python-magic-bin==0.4.14]\n",
       "Index: []"
      ]
     },
     "execution_count": 19,
     "metadata": {},
     "output_type": "execute_result"
    }
   ],
   "source": [
    "df_companies"
   ]
  },
  {
   "cell_type": "code",
   "execution_count": 18,
   "id": "094bb943",
   "metadata": {
    "scrolled": false
   },
   "outputs": [],
   "source": [
    "for i, company in df_companies.iterrows():\n",
    "    print (f\"{i + 1}. {company['Name']}\")\n",
    "    page_data = get_company_page(company['Link'])\n",
    "    docs = text_splitter.split_documents(page_data)\n",
    "\n",
    "    output = chain({\"input_documents\": docs, \\\n",
    "                \"company\":\"RapidRoad\", \\\n",
    "                \"sales_rep\" : \"Greg\", \\\n",
    "                \"prospect\" : company['Name'],\n",
    "                \"company_information\" : company_information\n",
    "               })\n",
    "    \n",
    "    print (output['output_text'])\n",
    "    print (\"\\n\\n\")"
   ]
  },
  {
   "cell_type": "code",
   "execution_count": null,
   "id": "5d037f61",
   "metadata": {},
   "outputs": [],
   "source": []
  }
 ],
 "metadata": {
  "kernelspec": {
   "display_name": "Python 3 (ipykernel)",
   "language": "python",
   "name": "python3"
  },
  "language_info": {
   "codemirror_mode": {
    "name": "ipython",
    "version": 3
   },
   "file_extension": ".py",
   "mimetype": "text/x-python",
   "name": "python",
   "nbconvert_exporter": "python",
   "pygments_lexer": "ipython3",
   "version": "3.10.12"
  }
 },
 "nbformat": 4,
 "nbformat_minor": 5
}
