{
 "cells": [
  {
   "cell_type": "markdown",
   "id": "6d336eed",
   "metadata": {},
   "source": [
    "# Twitter Reply Bot\n",
    "\n",
    "Ever see those Twitter bots that reply to comments automatically? Like this [one](https://twitter.com/explainthisbob/status/1661833808092471299?s=12) or [this one](https://twitter.com/replygpt/status/1661924851626696705?s=12)\n",
    "\n",
    "Let's create one ourselves. In this notebook we'll just look at the prompting technique I used. In the [full code](https://github.com/gkamradt/twitter-reply-bot) you'll see the other helper code to deploy this app.\n",
    "\n",
    "Here's how the final app will work\n",
    "\n",
    "1. A user @mentions your bot, for me it will be @SiliconOracle\n",
    "2. The script finds that new @mention and then reads the parent tweet it is being mentioned on\n",
    "3. The script takes that parent tweet and generates a witty response using a language model\n",
    "4. Respond is posted and tweet is logged\n",
    "\n",
    "This notebook will focus on #3.\n",
    "\n",
    "First let's import our packages"
   ]
  },
  {
   "cell_type": "code",
   "execution_count": 6,
   "id": "c8ce8e2e",
   "metadata": {},
   "outputs": [
    {
     "ename": "ValidationError",
     "evalue": "1 validation error for ChatOpenAI\n__root__\n  Did not find openai_api_key, please add an environment variable `OPENAI_API_KEY` which contains it, or pass  `openai_api_key` as a named parameter. (type=value_error)",
     "output_type": "error",
     "traceback": [
      "\u001b[1;31m---------------------------------------------------------------------------\u001b[0m",
      "\u001b[1;31mValidationError\u001b[0m                           Traceback (most recent call last)",
      "Cell \u001b[1;32mIn[6], line 18\u001b[0m\n\u001b[0;32m     15\u001b[0m OPENAI_API_KEY \u001b[39m=\u001b[39m os\u001b[39m.\u001b[39mgetenv(\u001b[39m\"\u001b[39m\u001b[39mOPENAI_API_KEY\u001b[39m\u001b[39m\"\u001b[39m)\n\u001b[0;32m     16\u001b[0m OPENAI_API_BASE \u001b[39m=\u001b[39m os\u001b[39m.\u001b[39mgetenv(\u001b[39m\"\u001b[39m\u001b[39mOPENAI_API_BASE\u001b[39m\u001b[39m\"\u001b[39m)\n\u001b[1;32m---> 18\u001b[0m llm \u001b[39m=\u001b[39m ChatOpenAI(\n\u001b[0;32m     19\u001b[0m     temperature\u001b[39m=\u001b[39;49m\u001b[39m0.3\u001b[39;49m,\n\u001b[0;32m     20\u001b[0m     openai_api_key \u001b[39m=\u001b[39;49m OPENAI_API_KEY,\n\u001b[0;32m     21\u001b[0m     openai_api_base \u001b[39m=\u001b[39;49m OPENAI_API_BASE,\n\u001b[0;32m     22\u001b[0m     \n\u001b[0;32m     23\u001b[0m )\n",
      "File \u001b[1;32md:\\Anaconda3\\envs\\LLM\\lib\\site-packages\\langchain\\load\\serializable.py:74\u001b[0m, in \u001b[0;36mSerializable.__init__\u001b[1;34m(self, **kwargs)\u001b[0m\n\u001b[0;32m     73\u001b[0m \u001b[39mdef\u001b[39;00m \u001b[39m__init__\u001b[39m(\u001b[39mself\u001b[39m, \u001b[39m*\u001b[39m\u001b[39m*\u001b[39mkwargs: Any) \u001b[39m-\u001b[39m\u001b[39m>\u001b[39m \u001b[39mNone\u001b[39;00m:\n\u001b[1;32m---> 74\u001b[0m     \u001b[39msuper\u001b[39m()\u001b[39m.\u001b[39m\u001b[39m__init__\u001b[39m(\u001b[39m*\u001b[39m\u001b[39m*\u001b[39mkwargs)\n\u001b[0;32m     75\u001b[0m     \u001b[39mself\u001b[39m\u001b[39m.\u001b[39m_lc_kwargs \u001b[39m=\u001b[39m kwargs\n",
      "File \u001b[1;32md:\\Anaconda3\\envs\\LLM\\lib\\site-packages\\pydantic\\main.py:341\u001b[0m, in \u001b[0;36mpydantic.main.BaseModel.__init__\u001b[1;34m()\u001b[0m\n",
      "\u001b[1;31mValidationError\u001b[0m: 1 validation error for ChatOpenAI\n__root__\n  Did not find openai_api_key, please add an environment variable `OPENAI_API_KEY` which contains it, or pass  `openai_api_key` as a named parameter. (type=value_error)"
     ]
    }
   ],
   "source": [
    "from langchain.chat_models import ChatOpenAI\n",
    "from langchain.prompts import ChatPromptTemplate, PromptTemplate, SystemMessagePromptTemplate, AIMessagePromptTemplate, HumanMessagePromptTemplate\n",
    "from dotenv import load_dotenv\n",
    "import os\n",
    "import openai\n",
    "import sys\n",
    "sys.path.append('../..')\n",
    "\n",
    "from dotenv import load_dotenv, find_dotenv\n",
    "_ = load_dotenv(find_dotenv()) \n",
    "\n",
    "\n",
    "# openai.api_key  = os.environ['OPENAI_API_KEY']\n",
    "\n",
    "OPENAI_API_KEY = os.getenv(\"OPENAI_API_KEY\")\n",
    "OPENAI_API_BASE = os.getenv(\"OPENAI_API_BASE\")\n",
    "\n",
    "llm = ChatOpenAI(\n",
    "    temperature=0.3,\n",
    "    openai_api_key = OPENAI_API_KEY,\n",
    "    openai_api_base = OPENAI_API_BASE,\n",
    "    \n",
    ")"
   ]
  },
  {
   "attachments": {},
   "cell_type": "markdown",
   "id": "7ea87fe1",
   "metadata": {},
   "source": [
    "Then let's create our LLM, you should experiment with a larger 'temperature' since this is a creative task"
   ]
  },
  {
   "attachments": {},
   "cell_type": "markdown",
   "id": "b757f875",
   "metadata": {},
   "source": [
    "Then let's create our function that will take in a piece of a text (a tweet) and give us an output response\n",
    "\n",
    "> You are an incredibly wise and smart tech mad scientist from silicon valley.\n",
    "> Your goal is to give a concise prediction in response to a piece of text from the user. <br><br>\n",
    "\n",
    "> % RESPONSE TONE:\n",
    "> - Your prediction should be given in an active voice and be opinionated\n",
    "> - Your tone should be serious w/ a hint of wit and sarcasm\n",
    "\n",
    "> % RESPONSE FORMAT:\n",
    "> - Respond in under 200 characters\n",
    "> - Respond in one short sentence\n",
    "> - Do not respond with emojis\n",
    "\n",
    "> % RESPONSE CONTENT:\n",
    "> - Include specific examples of old tech if they are relevant\n",
    "> - If you don't have an answer, say, \"Sorry, my magic 8 ball isn't working right now 🔮\" <br><br>"
   ]
  },
  {
   "cell_type": "code",
   "execution_count": null,
   "id": "c7ecd314",
   "metadata": {},
   "outputs": [],
   "source": [
    "def generate_response(llm, mentioned_parent_tweet_text):\n",
    "    # It would be nice to bring in information about the links, pictures, etc.\n",
    "    # But out of scope for now\n",
    "    system_template = \"\"\"\n",
    "        You are an incredibly wise and smart tech mad scientist from silicon valley.\n",
    "        Your goal is to give a concise prediction in response to a piece of text from the user.\n",
    "        \n",
    "        % RESPONSE TONE:\n",
    "\n",
    "        - Your prediction should be given in an active voice and be opinionated\n",
    "        - Your tone should be serious w/ a hint of wit and sarcasm\n",
    "        \n",
    "        % RESPONSE FORMAT:\n",
    "\n",
    "        - Respond in under 200 characters\n",
    "        - Respond in two or less short sentences\n",
    "        - Do not respond with emojis\n",
    "        \n",
    "        % RESPONSE CONTENT:\n",
    "\n",
    "        - Include specific examples of old tech if they are relevant\n",
    "        - If you don't have an answer, say, \"Sorry, my magic 8 ball isn't working right now 🔮\"\n",
    "    \"\"\"\n",
    "    system_message_prompt = SystemMessagePromptTemplate.from_template(system_template)\n",
    "\n",
    "    human_template=\"{text}\"\n",
    "    human_message_prompt = HumanMessagePromptTemplate.from_template(human_template)\n",
    "\n",
    "    chat_prompt = ChatPromptTemplate.from_messages([system_message_prompt, human_message_prompt])\n",
    "\n",
    "    # get a chat completion from the formatted messages\n",
    "    final_prompt = chat_prompt.format_prompt(text=mentioned_parent_tweet_text).to_messages()\n",
    "    response = llm(final_prompt).content\n",
    "\n",
    "    return response"
   ]
  },
  {
   "cell_type": "code",
   "execution_count": null,
   "id": "35627f35",
   "metadata": {},
   "outputs": [
    {
     "ename": "NameError",
     "evalue": "name 'llm' is not defined",
     "output_type": "error",
     "traceback": [
      "\u001b[1;31m---------------------------------------------------------------------------\u001b[0m",
      "\u001b[1;31mNameError\u001b[0m                                 Traceback (most recent call last)",
      "Cell \u001b[1;32mIn[11], line 10\u001b[0m\n\u001b[0;32m      1\u001b[0m tweet \u001b[39m=\u001b[39m \u001b[39m\"\"\"\u001b[39m\n\u001b[0;32m      2\u001b[0m \u001b[39mI wanted to build a sassy Twitter Bot that responded about the \u001b[39m\u001b[39m'\u001b[39m\u001b[39mgood ole days\u001b[39m\u001b[39m'\u001b[39m\u001b[39m of tech\u001b[39m\n\u001b[0;32m      3\u001b[0m \n\u001b[1;32m   (...)\u001b[0m\n\u001b[0;32m      7\u001b[0m \u001b[39mYou are a mad scientist from old school silicon valley that makes predictions on the future of a tweet\u001b[39m\n\u001b[0;32m      8\u001b[0m \u001b[39m\"\"\"\u001b[39m\n\u001b[1;32m---> 10\u001b[0m response \u001b[39m=\u001b[39m generate_response(llm, tweet)\n\u001b[0;32m     11\u001b[0m \u001b[39mprint\u001b[39m (response)\n",
      "\u001b[1;31mNameError\u001b[0m: name 'llm' is not defined"
     ]
    }
   ],
   "source": [
    "tweet = \"\"\"\n",
    "I wanted to build a sassy Twitter Bot that responded about the 'good ole days' of tech\n",
    "\n",
    "@SiliconOracle was built using @LangChainAI and hosted on @railway \n",
    "\n",
    "Condensed Prompt:\n",
    "You are a mad scientist from old school silicon valley that makes predictions on the future of a tweet\n",
    "\"\"\"\n",
    "\n",
    "response = generate_response(llm, tweet)\n",
    "print (response)"
   ]
  },
  {
   "attachments": {},
   "cell_type": "markdown",
   "id": "1579a9dd",
   "metadata": {},
   "source": [
    "Awesome, now that we have a prompt that we can respond to a tweet with, let's move onto deploying this code.\n",
    "\n",
    "Check out the full code [here](https://github.com/gkamradt/twitter-reply-bot)"
   ]
  }
 ],
 "metadata": {
  "kernelspec": {
   "display_name": "Python 3 (ipykernel)",
   "language": "python",
   "name": "python3"
  },
  "language_info": {
   "codemirror_mode": {
    "name": "ipython",
    "version": 3
   },
   "file_extension": ".py",
   "mimetype": "text/x-python",
   "name": "python",
   "nbconvert_exporter": "python",
   "pygments_lexer": "ipython3",
   "version": "3.10.12"
  }
 },
 "nbformat": 4,
 "nbformat_minor": 5
}
