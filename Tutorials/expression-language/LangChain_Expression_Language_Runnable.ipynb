{
  "cells": [
    {
      "cell_type": "markdown",
      "metadata": {
        "colab_type": "text",
        "id": "view-in-github"
      },
      "source": [
        "<a href=\"https://colab.research.google.com/github/sugarforever/LangChain-Tutorials/blob/main/expression-language/LangChain_Expression_Language_Runnable.ipynb\" target=\"_parent\"><img src=\"https://colab.research.google.com/assets/colab-badge.svg\" alt=\"Open In Colab\"/></a>"
      ]
    },
    {
      "cell_type": "markdown",
      "metadata": {
        "id": "OHpaChk4b5UN"
      },
      "source": [
        "# LangChain Expression Language 中最重要的接口 Runnable\n",
        "\n",
        "`LEL` ( `LangChain Expression Language` ) 是一种以声明式方法，轻松地将链或组件组合在一起的机制。今天我们来介绍 `LEL` 中最重要的接口 `Runnable`。"
      ]
    },
    {
      "cell_type": "markdown",
      "metadata": {
        "id": "IAzbVA50cVt1"
      },
      "source": [
        "## Runnable\n",
        "\n",
        "`LangChain` 定义了 `Runnable` 接口，绝大多数组件也实现了该接口。`Runnable` 接口定义了如下函数：\n",
        "\n",
        "- stream: 流式输出响应\n",
        "- invoke: 基于单一输入调用链\n",
        "- batch: 基于一组输入调用链\n",
        "- astream\n",
        "- ainvoke\n",
        "- abatch\n",
        "\n",
        "后三个函数为前三个函数的异步版本。更多内容请参考 [Expression Language Interface](https://python.langchain.com/docs/guides/expression_language/interface)。\n",
        "\n",
        "`ChatPromptTemplate` 与 `ChatOpenAI` 类都实现了 `Runnable` 接口。参考如下代码：\n"
      ]
    },
    {
      "cell_type": "code",
      "execution_count": 4,
      "metadata": {
        "colab": {
          "base_uri": "https://localhost:8080/"
        },
        "id": "MZWl8x3dmjsV",
        "outputId": "0ce4eef3-a06c-4647-f1ab-618440503839"
      },
      "outputs": [
        {
          "name": "stdout",
          "output_type": "stream",
          "text": [
            "True\n",
            "input_variables=[] output_parser=None partial_variables={} messages=[HumanMessagePromptTemplate(prompt=PromptTemplate(input_variables=[], output_parser=None, partial_variables={}, template='Hi, LEL!', template_format='f-string', validate_template=True), additional_kwargs={})]\n"
          ]
        }
      ],
      "source": [
        "# !pip install -q -U langchain\n",
        "\n",
        "from langchain.prompts import ChatPromptTemplate\n",
        "from langchain.schema.runnable import Runnable\n",
        "\n",
        "prompt = ChatPromptTemplate.from_template(\"Hi, LEL!\")\n",
        "print(isinstance(prompt, Runnable))\n",
        "\n",
        "print(prompt)"
      ]
    },
    {
      "cell_type": "code",
      "execution_count": null,
      "metadata": {},
      "outputs": [],
      "source": []
    },
    {
      "cell_type": "markdown",
      "metadata": {
        "id": "So9PZ9SigdjN"
      },
      "source": [
        "### RunnablePassthrough 在管道中实现输入的传递"
      ]
    },
    {
      "cell_type": "markdown",
      "metadata": {
        "id": "aOmBTf29hT15"
      },
      "source": [
        "在通过管道构建LangChain链时，我们可能需要将原始输入变量传递给链式模型的后续步骤。我们可以使用类 `RunnablePassthrough` 来达到输入传递的目的。请参考一下示例："
      ]
    },
    {
      "cell_type": "markdown",
      "metadata": {
        "id": "88VQ51ARhshM"
      },
      "source": [
        "`RunnablePassthrough` 接受输入，并如实地将输入作为自己的输出，从而达到传递的目的。这里我们实现一个 `Runnable` 来接受一个 `Dict` 类型的输入，并在控制台打印出键为 `name` 的值，以此来测试 `RunnablePassthrough` 的传递效果。\n",
        "\n",
        "在构成的链中，第一个 `RunnablePassthrough` 传递的是 `chain.invoke(\"Alex\")` 中的字符串参数 `Alex`，第二个 `RunnablePassthrough` 传递的是管道第一部分的输出，一个字典 dict:\n",
        "\n",
        "```json\n",
        "{\n",
        "  \"name\": \"Alex\"\n",
        "}\n",
        "```"
      ]
    },
    {
      "cell_type": "code",
      "execution_count": 3,
      "metadata": {
        "colab": {
          "base_uri": "https://localhost:8080/"
        },
        "id": "XsOMu9w5dV0-",
        "outputId": "52269096-4e50-4fcf-a042-9ef78f1d2fd0"
      },
      "outputs": [
        {
          "name": "stdout",
          "output_type": "stream",
          "text": [
            "Hey, I received the name Simon\n"
          ]
        },
        {
          "data": {
            "text/plain": [
              "{'name': 'Simon'}"
            ]
          },
          "execution_count": 3,
          "metadata": {},
          "output_type": "execute_result"
        }
      ],
      "source": [
        "from langchain.schema.runnable import RunnablePassthrough, RunnableConfig, Input\n",
        "from langchain.load.serializable import Serializable\n",
        "from typing import Optional, Dict\n",
        "\n",
        "class StdOutputRunnable(Serializable, Runnable[Input, Input]):\n",
        "    @property\n",
        "    def lc_serializable(self) -> bool:\n",
        "        return True\n",
        "\n",
        "    def invoke(self, input: Dict, config: Optional[RunnableConfig] = None) -> Input:\n",
        "        print(f\"Hey, I received the name {input['name']}\")\n",
        "        return self._call_with_config(lambda x: x, input, config)\n",
        "\n",
        "chain = {\"name\": RunnablePassthrough()} | RunnablePassthrough() | StdOutputRunnable()\n",
        "\n",
        "chain.invoke(\"Simon\")"
      ]
    },
    {
      "cell_type": "markdown",
      "metadata": {
        "id": "qG3fJp0Si-iX"
      },
      "source": [
        "### itemgetter 实现输入的部分传递\n",
        "\n",
        "我们可以不需要传递输入的完整数据。当我们想要传递字典中的某一个键值，可以通过 `itemgetter` 函数实现。请参考如下代码："
      ]
    },
    {
      "cell_type": "code",
      "execution_count": 6,
      "metadata": {
        "colab": {
          "base_uri": "https://localhost:8080/"
        },
        "id": "bVJPSSOqjckz",
        "outputId": "8bb676ac-1724-4bad-912e-0eb3d9b7b850"
      },
      "outputs": [
        {
          "name": "stdout",
          "output_type": "stream",
          "text": [
            "Hey, I received the name male\n"
          ]
        },
        {
          "data": {
            "text/plain": [
              "{'name': 'male'}"
            ]
          },
          "execution_count": 6,
          "metadata": {},
          "output_type": "execute_result"
        }
      ],
      "source": [
        "from langchain.schema import StrOutputParser\n",
        "from langchain.schema.runnable import RunnablePassthrough, RunnableConfig, Input\n",
        "from langchain.load.serializable import Serializable\n",
        "from operator import itemgetter\n",
        "\n",
        "chain = {\"name\": itemgetter(\"gender\") } | RunnablePassthrough() | StdOutputRunnable()\n",
        "\n",
        "chain.invoke({\"user_name\": \"Alex\",\n",
        "              \"gender\":\"male\"\n",
        "              })"
      ]
    },
    {
      "cell_type": "markdown",
      "metadata": {
        "id": "mzD5Emcsp9rq"
      },
      "source": [
        "### 连接模型的一个完整例子\n",
        "\n",
        "1. 利用 `Retriever` 增加外部数据获取能力\n",
        "2. 管道连接 `OpenAI` 的聊天模型完成问答"
      ]
    },
    {
      "cell_type": "code",
      "execution_count": 27,
      "metadata": {
        "colab": {
          "base_uri": "https://localhost:8080/"
        },
        "id": "r9XU7NXLrERq",
        "outputId": "8564e35b-a7b1-4acb-f9fc-3992153e3473"
      },
      "outputs": [
        {
          "name": "stdout",
          "output_type": "stream",
          "text": [
            "\u001b[?25l     \u001b[90m━━━━━━━━━━━━━━━━━━━━━━━━━━━━━━━━━━━━━━━━\u001b[0m \u001b[32m0.0/1.7 MB\u001b[0m \u001b[31m?\u001b[0m eta \u001b[36m-:--:--\u001b[0m\r\u001b[2K     \u001b[91m━━━\u001b[0m\u001b[90m╺\u001b[0m\u001b[90m━━━━━━━━━━━━━━━━━━━━━━━━━━━━━━━━━━━━\u001b[0m \u001b[32m0.1/1.7 MB\u001b[0m \u001b[31m4.3 MB/s\u001b[0m eta \u001b[36m0:00:01\u001b[0m\r\u001b[2K     \u001b[91m━━━━━━━━━━━━━━━\u001b[0m\u001b[91m╸\u001b[0m\u001b[90m━━━━━━━━━━━━━━━━━━━━━━━━\u001b[0m \u001b[32m0.7/1.7 MB\u001b[0m \u001b[31m10.0 MB/s\u001b[0m eta \u001b[36m0:00:01\u001b[0m\r\u001b[2K     \u001b[91m━━━━━━━━━━━━━━━━━━━━━━━━━━━━━\u001b[0m\u001b[91m╸\u001b[0m\u001b[90m━━━━━━━━━━\u001b[0m \u001b[32m1.3/1.7 MB\u001b[0m \u001b[31m12.6 MB/s\u001b[0m eta \u001b[36m0:00:01\u001b[0m\r\u001b[2K     \u001b[90m━━━━━━━━━━━━━━━━━━━━━━━━━━━━━━━━━━━━━━━━\u001b[0m \u001b[32m1.7/1.7 MB\u001b[0m \u001b[31m12.8 MB/s\u001b[0m eta \u001b[36m0:00:00\u001b[0m\n",
            "\u001b[?25h"
          ]
        }
      ],
      "source": [
        "!pip install -q -U openai chromadb tiktoken"
      ]
    },
    {
      "cell_type": "code",
      "execution_count": 28,
      "metadata": {
        "id": "cpayrV5RrTBT"
      },
      "outputs": [],
      "source": [
        "# import os\n",
        "\n",
        "# os.environ['OPENAI_API_KEY'] = '您的有效openai api key'"
      ]
    },
    {
      "cell_type": "code",
      "execution_count": 48,
      "metadata": {
        "id": "D4uoeGtVrMhI"
      },
      "outputs": [],
      "source": [
        "from langchain.vectorstores import Chroma\n",
        "from langchain.vectorstores.base import VectorStoreRetriever\n",
        "from langchain.embeddings import OpenAIEmbeddings\n",
        "from langchain.schema.runnable import RunnablePassthrough\n",
        "from langchain.chat_models import ChatOpenAI\n",
        "\n",
        "vectorstore = Chroma.from_texts([\"My name is VerySmallWoods, a software engineer based in Dublin.\"], embedding=OpenAIEmbeddings())\n",
        "retriever = vectorstore.as_retriever()"
      ]
    },
    {
      "cell_type": "code",
      "execution_count": 49,
      "metadata": {
        "colab": {
          "base_uri": "https://localhost:8080/"
        },
        "id": "_LoUPnlErxW2",
        "outputId": "c8ece014-1c08-4a85-a4fe-49df36922653"
      },
      "outputs": [
        {
          "data": {
            "text/plain": [
              "langchain.vectorstores.base.VectorStoreRetriever"
            ]
          },
          "execution_count": 49,
          "metadata": {},
          "output_type": "execute_result"
        }
      ],
      "source": [
        "retriever.__class__"
      ]
    },
    {
      "cell_type": "markdown",
      "metadata": {
        "id": "i5S_fCX0slX1"
      },
      "source": [
        "`VectorStoreRetriever` 的 `BaseRetriever` 基类实现了 `invoke` 函数。它接受字符串类型输入，并调用 `get_relevant_documents` 函数查询相关文档。\n",
        "\n",
        "```python\n",
        "class BaseRetriever(Serializable, Runnable[str, List[Document]], ABC):\n",
        "    # ......\n",
        "    def invoke(\n",
        "        self, input: str, config: Optional[RunnableConfig] = None\n",
        "    ) -> List[Document]:\n",
        "        return self.get_relevant_documents(input, **(config or {}))\n",
        "```"
      ]
    },
    {
      "cell_type": "code",
      "execution_count": 50,
      "metadata": {
        "colab": {
          "base_uri": "https://localhost:8080/",
          "height": 36
        },
        "id": "RqhRpOnBqCua",
        "outputId": "8c65d325-3321-46c0-a590-3997c4538816"
      },
      "outputs": [
        {
          "data": {
            "application/vnd.google.colaboratory.intrinsic+json": {
              "type": "string"
            },
            "text/plain": [
              "'You are VerySmallWoods, a software engineer based in Dublin.'"
            ]
          },
          "execution_count": 50,
          "metadata": {},
          "output_type": "execute_result"
        }
      ],
      "source": [
        "model = ChatOpenAI()\n",
        "template = \"\"\"Answer the question based only on the following context:\n",
        "{context}\n",
        "\n",
        "Question: {question}\n",
        "\"\"\"\n",
        "prompt = ChatPromptTemplate.from_template(template)\n",
        "\n",
        "chain = ( {\n",
        "    \"context\": retriever,\n",
        "    \"question\": RunnablePassthrough()\n",
        "} | prompt | model | StrOutputParser() )\n",
        "\n",
        "chain.invoke(\"Who am I?\")\n"
      ]
    },
    {
      "cell_type": "code",
      "execution_count": 51,
      "metadata": {
        "colab": {
          "base_uri": "https://localhost:8080/",
          "height": 36
        },
        "id": "HDxSyFCbtXSG",
        "outputId": "1a8be89a-300d-4f13-bda8-e7fc76284aef"
      },
      "outputs": [
        {
          "data": {
            "application/vnd.google.colaboratory.intrinsic+json": {
              "type": "string"
            },
            "text/plain": [
              "'Based on the given context, you live in Dublin.'"
            ]
          },
          "execution_count": 51,
          "metadata": {},
          "output_type": "execute_result"
        }
      ],
      "source": [
        "chain.invoke(\"Where do I live?\")"
      ]
    }
  ],
  "metadata": {
    "colab": {
      "authorship_tag": "ABX9TyOp1YZkXUo1Nss+Mi/VxTsF",
      "include_colab_link": true,
      "provenance": []
    },
    "kernelspec": {
      "display_name": "Python 3",
      "name": "python3"
    },
    "language_info": {
      "codemirror_mode": {
        "name": "ipython",
        "version": 3
      },
      "file_extension": ".py",
      "mimetype": "text/x-python",
      "name": "python",
      "nbconvert_exporter": "python",
      "pygments_lexer": "ipython3",
      "version": "3.10.12"
    }
  },
  "nbformat": 4,
  "nbformat_minor": 0
}
