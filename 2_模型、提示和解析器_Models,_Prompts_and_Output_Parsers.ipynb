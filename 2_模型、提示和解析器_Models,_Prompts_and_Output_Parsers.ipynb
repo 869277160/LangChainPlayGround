{
  "cells": [
    {
      "cell_type": "markdown",
      "metadata": {
        "id": "view-in-github",
        "colab_type": "text"
      },
      "source": [
        "<a href=\"https://colab.research.google.com/github/869277160/LangChainPlayGround/blob/main/2_%E6%A8%A1%E5%9E%8B%E3%80%81%E6%8F%90%E7%A4%BA%E5%92%8C%E8%A7%A3%E6%9E%90%E5%99%A8_Models%2C_Prompts_and_Output_Parsers.ipynb\" target=\"_parent\"><img src=\"https://colab.research.google.com/assets/colab-badge.svg\" alt=\"Open In Colab\"/></a>"
      ]
    },
    {
      "cell_type": "markdown",
      "metadata": {
        "id": "5iBSb3SHsNC3"
      },
      "source": [
        "# 第二章 模型，提示和输出解释器\n",
        "\n",
        " - [一、设置OpenAI API Key](#一、设置OpenAI-API-Key)\n",
        " - [二、直接使用OpenAI](#二、直接使用OpenAI)\n",
        "     - [2.1 计算1+1](#2.1-计算1+1)\n",
        "     - [2.2 用美式英语表达海盗邮件](#2.2-用美式英语表达海盗邮件)\n",
        "     - [2.3 中文版](#2.3-中文版)\n",
        " - [三、通过LangChain使用OpenAI](#三、通过LangChain使用OpenAI)\n",
        "     - [3.1 模型](#3.1-模型)\n",
        "     - [3.2 提示模板](#3.2-提示模板)\n",
        "         - [3.2.1 使用LangChain提示模版](#3.2.1-使用LangChain提示模版)\n",
        "         - [3.2.2 中文版](#3.2.2-中文版)\n",
        "         - [3.2.2 为什么需要提示模版](#3.2.2-为什么需要提示模版)\n",
        "     - [3.3 输出解析器](#3.3-输出解析器)\n",
        "         - [3.3.1 如果没有输出解析器](#3.3.1-如果没有输出解析器)\n",
        "         - [3.3.2 中文版](#3.3.2-中文版)\n",
        "         - [3.3.3 LangChain输出解析器](#3.3.3-LangChain输出解析器)\n",
        "         - [3.3.4 中文版](#3.3.4-中文版)\n",
        " - [四、补充材料](#四、补充材料)\n",
        "     - [4.1 链式思考推理(ReAct)](#4.1-链式思考推理(ReAct))\n"
      ]
    },
    {
      "cell_type": "markdown",
      "metadata": {
        "tags": [],
        "id": "bk8154DksNC9"
      },
      "source": [
        "## 一、设置OpenAI API Key\n",
        "\n",
        "登陆 [OpenAI 账户](https://platform.openai.com/account/api-keys) 获取API Key，然后将其设置为环境变量。\n",
        "\n",
        "- 如果你想要设置为全局环境变量，可以参考[知乎文章](https://zhuanlan.zhihu.com/p/627665725)。\n",
        "- 如果你想要设置为本地/项目环境变量，在本文件目录下创建`.env`文件, 打开文件输入以下内容。\n",
        "\n",
        "    <p style=\"font-family:verdana; font-size:12px;color:green\">\n",
        "    OPENAI_API_KEY=\"your_api_key\"\n",
        "    </p>\n",
        "  \n",
        "  替换\"your_api_key\"为你自己的 API Key\n",
        "\n",
        "\n",
        "这里将chatgpt 转换为chatglm"
      ]
    },
    {
      "cell_type": "code",
      "execution_count": 1,
      "metadata": {
        "id": "tMInjTepsNC-"
      },
      "outputs": [],
      "source": [
        "# 下载需要的包python-dotenv和openai\n",
        "# 如果你需要查看安装过程日志，可删除 -q\n",
        "# !pip install -q python-dotenv\n",
        "!pip install -q openai"
      ]
    },
    {
      "cell_type": "code",
      "execution_count": 2,
      "metadata": {
        "tags": [],
        "id": "TivK4CcUsNC_"
      },
      "outputs": [],
      "source": [
        "import os\n",
        "import openai\n",
        "# from dotenv import load_dotenv, find_dotenv\n",
        "\n",
        "# 读取本地/项目的环境变量。\n",
        "\n",
        "# find_dotenv()寻找并定位.env文件的路径\n",
        "# load_dotenv()读取该.env文件，并将其中的环境变量加载到当前的运行环境中\n",
        "# 如果你设置的是全局的环境变量，这行代码则没有任何作用。\n",
        "# _ = load_dotenv(find_dotenv())\n",
        "\n",
        "# 获取环境变量 OPENAI_API_KEY\n",
        "# openai.api_key = os.environ['OPENAI_API_KEY']\n",
        "# openai.api_base = \"https://api.openai.com/v1\" # 换成代理，一定要加v1\n",
        "openai.api_base = \"https://openkey.cloud/v1\" # 换成代理，一定要加v1\n",
        "# openai.api_key = \"API_KEY\"\n",
        "openai.api_key = \"sk-S0TKP0Sxk8H8VirL7a912cAf06314e46AfB0348eD40183B5\"\n"
      ]
    },
    {
      "cell_type": "code",
      "execution_count": 3,
      "metadata": {
        "id": "iXbpZeKasNC_"
      },
      "outputs": [],
      "source": [
        "# from LangChainChatGLM import *\n",
        "# from LangChainChatGLM import ChatGLM\n",
        "\n",
        "# llm = ChatGLM()\n",
        "\n",
        "# testing code for the model\n",
        "# for i in range(10):\n",
        "#     human_input = input(\"Human: \")\n",
        "\n",
        "#     begin_time = time.time() * 1000\n",
        "#     # 请求模型\n",
        "#     response = llm(human_input, stop=[\"you\"])\n",
        "#     end_time = time.time() * 1000\n",
        "#     used_time = round(end_time - begin_time, 3)\n",
        "#     logging.info(f\"chatGLM process time: {used_time}ms\")\n",
        "\n",
        "#     print(f\"ChatGLM: {response}\")"
      ]
    },
    {
      "cell_type": "markdown",
      "metadata": {
        "tags": [],
        "id": "3t7UUWSCsNDA"
      },
      "source": [
        "## 二、直接使用OpenAI\n",
        "\n",
        "我们先从直接调用OpenAI的API开始。\n",
        "\n",
        "`get_completion`函数是基于`openai`的封装函数，对于给定提示（prompt）输出相应的回答。其包含两个参数\n",
        "   \n",
        "   - `prompt` 必需输入参数。 你给模型的**提示，可以是一个问题，可以是你需要模型帮助你做的事**（改变文本写作风格，翻译，回复消息等等）。\n",
        "   - `model` 非必需输入参数。默认使用gpt-3.5-turbo。你也可以选择其他模型。\n",
        "   \n",
        "这里的提示对应我们给chatgpt的问题，函数给出的输出则对应chatpgt给我们的答案。"
      ]
    },
    {
      "cell_type": "code",
      "execution_count": 4,
      "metadata": {
        "tags": [],
        "id": "AzOvWEn5sNDA"
      },
      "outputs": [],
      "source": [
        "# def get_completion_from_messages(messages,\n",
        "#                                  model=\"gpt-3.5-turbo\",\n",
        "#                                 temperature=0,\n",
        "#                                 max_tokens=500):\n",
        "#     '''\n",
        "#     封装一个访问 OpenAI GPT3.5 的函数\n",
        "\n",
        "#     参数:\n",
        "#     messages: 这是一个消息列表，每个消息都是一个字典，包含 role(角色）和 content(内容)。角色可以是'system'、'user' 或 'assistant’，内容是角色的消息。\n",
        "#     model: 调用的模型，默认为 gpt-3.5-turbo(ChatGPT)，有内测资格的用户可以选择 gpt-4\n",
        "#     temperature: 这决定模型输出的随机程度，默认为0，表示输出将非常确定。增加温度会使输出更随机。\n",
        "#     max_tokens: 这决定模型输出的最大的 token 数。\n",
        "#     '''\n",
        "#     response = openai.ChatCompletion.create(\n",
        "#         model=model,\n",
        "#         messages=messages,\n",
        "#         temperature=temperature, # 这决定模型输出的随机程度\n",
        "#         max_tokens=max_tokens, # 这决定模型输出的最大的 token 数\n",
        "#     )\n",
        "#     return response.choices[0].message[\"content\"]\n",
        "\n",
        "def get_completion(prompt, model=\"gpt-3.5-turbo\"):\n",
        "\n",
        "    messages = [{\"role\": \"user\", \"content\": prompt}]\n",
        "\n",
        "    response = openai.ChatCompletion.create(\n",
        "        model=model,\n",
        "        messages=messages,\n",
        "        temperature=0,\n",
        "    )\n",
        "    return response.choices[0].message[\"content\"]"
      ]
    },
    {
      "cell_type": "markdown",
      "metadata": {
        "tags": [],
        "id": "ieJZCyzMsNDA"
      },
      "source": [
        "### 2.1 计算1+1\n",
        "\n",
        "我们来一个简单的例子 - 分别用中英文问问模型\n",
        "\n",
        "- 中文提示(Prompt in Chinese)： `1+1是什么？`\n",
        "- 英文提示(Prompt in English)： `What is 1+1?`"
      ]
    },
    {
      "cell_type": "code",
      "execution_count": 7,
      "metadata": {
        "colab": {
          "base_uri": "https://localhost:8080/",
          "height": 35
        },
        "id": "AtOcyHOWsNDB",
        "outputId": "93bd85be-523f-46d9-fab6-d69805638f20"
      },
      "outputs": [
        {
          "output_type": "execute_result",
          "data": {
            "text/plain": [
              "'1+1等于2。'"
            ],
            "application/vnd.google.colaboratory.intrinsic+json": {
              "type": "string"
            }
          },
          "metadata": {},
          "execution_count": 7
        }
      ],
      "source": [
        "# 中文\n",
        "get_completion(\"1+1是什么？\")"
      ]
    },
    {
      "cell_type": "code",
      "execution_count": 8,
      "metadata": {
        "tags": [],
        "id": "qxoSGOrUsNDB",
        "outputId": "23515927-b03b-4031-a4f2-ea9319eb3a28",
        "colab": {
          "base_uri": "https://localhost:8080/",
          "height": 35
        }
      },
      "outputs": [
        {
          "output_type": "execute_result",
          "data": {
            "text/plain": [
              "'1+1 equals 2.'"
            ],
            "application/vnd.google.colaboratory.intrinsic+json": {
              "type": "string"
            }
          },
          "metadata": {},
          "execution_count": 8
        }
      ],
      "source": [
        "# 英文\n",
        "get_completion(\"What is 1+1?\")"
      ]
    },
    {
      "cell_type": "markdown",
      "metadata": {
        "tags": [],
        "id": "Xo7mk4h3sNDC"
      },
      "source": [
        "### 2.2 用美式英语表达海盗邮件\n",
        "\n",
        "上面的简单例子，模型`gpt-3.5-turbo`对我们的关于1+1是什么的提问给出了回答。\n",
        "\n",
        "现在我们来看一个复杂一点的例子：\n",
        "\n",
        "假设我们是电商公司员工，我们的顾客是一名海盗A，他在我们的网站上买了一个榨汁机用来做奶昔，在制作奶昔的过程中，奶昔的盖子飞了出去，弄得厨房墙上到处都是。于是海盗A给我们的客服中心写来以下邮件：`customer_email`"
      ]
    },
    {
      "cell_type": "code",
      "execution_count": 9,
      "metadata": {
        "tags": [],
        "id": "SjvyDJvtsNDC"
      },
      "outputs": [],
      "source": [
        "customer_email = \"\"\"\n",
        "Arrr, I be fuming that me blender lid \\\n",
        "flew off and splattered me kitchen walls \\\n",
        "with smoothie! And to make matters worse,\\\n",
        "the warranty don't cover the cost of \\\n",
        "cleaning up me kitchen. I need yer help \\\n",
        "right now, matey!\n",
        "\"\"\"\n",
        "\n",
        "# 中文非正式用语\n",
        "customer_email = \"\"\"\n",
        "阿，我很生气，\\\n",
        "因为我的搅拌机盖掉了，\\\n",
        "把奶昔溅到了厨房的墙上！\\\n",
        "更糟糕的是，保修不包括打扫厨房的费用。\\\n",
        "我现在需要你的帮助，伙计！\n",
        "\"\"\""
      ]
    },
    {
      "cell_type": "markdown",
      "metadata": {
        "id": "GbvFxL8fsNDC"
      },
      "source": [
        "我们的客服人员对于海盗的措辞表达觉得有点难以理解。 现在我们想要实现两个小目标：\n",
        "\n",
        "- 让模型用美式英语的表达方式将海盗的邮件进行翻译，客服人员可以更好理解。*这里海盗的英文表达可以理解为英文的方言，其与美式英语的关系，就如四川话与普通话的关系。\n",
        "- 让模型在翻译是用平和尊重的语气进行表达，客服人员的心情也会更好。\n",
        "\n",
        "根据这两个小目标，定义一下文本表达风格：`style`"
      ]
    },
    {
      "cell_type": "code",
      "execution_count": 10,
      "metadata": {
        "tags": [],
        "id": "JQ6Z_f2MsNDC"
      },
      "outputs": [],
      "source": [
        "# 美式英语 + 平静、尊敬的语调\n",
        "style = \"\"\"American English \\\n",
        "in a calm and respectful tone\n",
        "\"\"\""
      ]
    },
    {
      "cell_type": "markdown",
      "metadata": {
        "id": "rUZaJv8OsNDC"
      },
      "source": [
        "下一步需要做的是将`customer_email`和`style`结合起来构造我们的提示:`prompt`"
      ]
    },
    {
      "cell_type": "code",
      "execution_count": 11,
      "metadata": {
        "id": "x3CEo0hqsNDC",
        "outputId": "a9941b94-b3c4-4f08-fb4e-6f6ac6fea095",
        "colab": {
          "base_uri": "https://localhost:8080/"
        }
      },
      "outputs": [
        {
          "output_type": "stream",
          "name": "stdout",
          "text": [
            "Translate the text that is delimited by triple backticks\n",
            "into a style that is American English in a calm and respectful tone\n",
            ".\n",
            "text: ```\n",
            "阿，我很生气，因为我的搅拌机盖掉了，把奶昔溅到了厨房的墙上！更糟糕的是，保修不包括打扫厨房的费用。我现在需要你的帮助，伙计！\n",
            "```\n",
            "\n"
          ]
        }
      ],
      "source": [
        "# 要求模型根据给出的语调进行转化\n",
        "prompt = f\"\"\"Translate the text \\\n",
        "that is delimited by triple backticks\n",
        "into a style that is {style}.\n",
        "text: ```{customer_email}```\n",
        "\"\"\"\n",
        "\n",
        "print(prompt)"
      ]
    },
    {
      "cell_type": "markdown",
      "metadata": {
        "id": "YvwopfA9sNDC"
      },
      "source": [
        "`prompt` 构造好了，我们可以调用`get_completion`得到我们想要的结果 - 用平和尊重的语气，美式英语表达的海盗语言邮件"
      ]
    },
    {
      "cell_type": "code",
      "execution_count": 12,
      "metadata": {
        "id": "fiNEZWcdsNDD",
        "outputId": "fec574b7-2e97-4309-de8e-a2b5351ad84c",
        "colab": {
          "base_uri": "https://localhost:8080/",
          "height": 71
        }
      },
      "outputs": [
        {
          "output_type": "execute_result",
          "data": {
            "text/plain": [
              "\"Oh, I'm really frustrated because the lid of my blender fell off and splattered the milkshake all over the kitchen wall! To make matters worse, the warranty doesn't cover the cost of cleaning the kitchen. I could really use your help right now, buddy!\""
            ],
            "application/vnd.google.colaboratory.intrinsic+json": {
              "type": "string"
            }
          },
          "metadata": {},
          "execution_count": 12
        }
      ],
      "source": [
        "response = get_completion(prompt)\n",
        "response"
      ]
    },
    {
      "cell_type": "markdown",
      "metadata": {
        "id": "JF0RlVZNsNDD"
      },
      "source": [
        "对比语言风格转换前后，用词更为正式，替换了极端情绪的表达，并表达了感谢。\n",
        "\n",
        "✨ 你可以尝试修改提示，看可以得到什么不一样的结果😉"
      ]
    },
    {
      "cell_type": "markdown",
      "metadata": {
        "tags": [],
        "id": "VXGqzwFNsNDD"
      },
      "source": [
        "### 2.3 中文版"
      ]
    },
    {
      "cell_type": "code",
      "execution_count": 13,
      "metadata": {
        "id": "6MkzJLFxsNDD"
      },
      "outputs": [],
      "source": [
        "# 普通话 + 平静、尊敬的语调\n",
        "style = \"\"\"正式普通话 \\\n",
        "用一个平静、尊敬的语调\n",
        "\"\"\""
      ]
    },
    {
      "cell_type": "code",
      "execution_count": 14,
      "metadata": {
        "id": "0s2c-3zWsNDD",
        "outputId": "5c33564a-1d3e-43b4-99e5-45d057bf14d2",
        "colab": {
          "base_uri": "https://localhost:8080/"
        }
      },
      "outputs": [
        {
          "output_type": "stream",
          "name": "stdout",
          "text": [
            "把由三个反引号分隔的文本翻译成一种正式普通话 用一个平静、尊敬的语调\n",
            "风格。\n",
            "文本: ```\n",
            "阿，我很生气，因为我的搅拌机盖掉了，把奶昔溅到了厨房的墙上！更糟糕的是，保修不包括打扫厨房的费用。我现在需要你的帮助，伙计！\n",
            "```\n",
            "\n"
          ]
        }
      ],
      "source": [
        "# 要求模型根据给出的语调进行转化\n",
        "prompt = f\"\"\"把由三个反引号分隔的文本\\\n",
        "翻译成一种{style}风格。\n",
        "文本: ```{customer_email}```\n",
        "\"\"\"\n",
        "\n",
        "print(prompt)\n",
        "\n"
      ]
    },
    {
      "cell_type": "code",
      "execution_count": 15,
      "metadata": {
        "id": "Wr-Jot_PsNDD",
        "outputId": "deb962b0-b941-4886-9049-fa7cf465e472",
        "colab": {
          "base_uri": "https://localhost:8080/",
          "height": 53
        }
      },
      "outputs": [
        {
          "output_type": "execute_result",
          "data": {
            "text/plain": [
              "'尊敬的朋友，我感到不安，因为我的搅拌机盖子不慎掉落，导致奶昔溅到了厨房的墙壁上！更加令人糟心的是，保修并不包含厨房清洁的费用。此刻，我需要你的帮助，亲爱的伙伴！'"
            ],
            "application/vnd.google.colaboratory.intrinsic+json": {
              "type": "string"
            }
          },
          "metadata": {},
          "execution_count": 15
        }
      ],
      "source": [
        "response = get_completion(prompt)\n",
        "response"
      ]
    },
    {
      "cell_type": "markdown",
      "metadata": {
        "tags": [],
        "id": "4NKpyUl7sNDD"
      },
      "source": [
        "## 三、通过LangChain使用OpenAI\n",
        "\n",
        "在前面一部分，我们通过封装函数`get_completion`直接调用了OpenAI完成了对方言邮件进行了的翻译，得到用平和尊重的语气、正式的普通话表达的邮件。\n",
        "\n",
        "让我们尝试使用LangChain来实现相同的功能。"
      ]
    },
    {
      "cell_type": "code",
      "execution_count": 16,
      "metadata": {
        "tags": [],
        "id": "EPrAWJ38sNDD",
        "colab": {
          "base_uri": "https://localhost:8080/"
        },
        "outputId": "8f8e144a-004a-429c-8ce0-4780d6934dd2"
      },
      "outputs": [
        {
          "output_type": "stream",
          "name": "stdout",
          "text": [
            "\u001b[2K     \u001b[90m━━━━━━━━━━━━━━━━━━━━━━━━━━━━━━━━━━━━━━━━\u001b[0m \u001b[32m1.5/1.5 MB\u001b[0m \u001b[31m10.1 MB/s\u001b[0m eta \u001b[36m0:00:00\u001b[0m\n",
            "\u001b[2K     \u001b[90m━━━━━━━━━━━━━━━━━━━━━━━━━━━━━━━━━━━━━━━━\u001b[0m \u001b[32m90.0/90.0 kB\u001b[0m \u001b[31m8.5 MB/s\u001b[0m eta \u001b[36m0:00:00\u001b[0m\n",
            "\u001b[2K     \u001b[90m━━━━━━━━━━━━━━━━━━━━━━━━━━━━━━━━━━━━━━━━\u001b[0m \u001b[32m49.4/49.4 kB\u001b[0m \u001b[31m4.7 MB/s\u001b[0m eta \u001b[36m0:00:00\u001b[0m\n",
            "\u001b[?25h"
          ]
        }
      ],
      "source": [
        "# 如果你需要查看安装过程日志，可删除 -q\n",
        "# --upgrade 让我们可以安装到最新版本的 langchain\n",
        "!pip install --upgrade langchain"
      ]
    },
    {
      "cell_type": "markdown",
      "metadata": {
        "tags": [],
        "id": "wbWvVZ93sNDD"
      },
      "source": [
        "### 3.1 模型\n",
        "\n",
        "从`langchain.chat_models`导入`OpenAI`的对话模型`ChatOpenAI`。 除去OpenAI以外，`langchain.chat_models`还集成了其他对话模型，更多细节可以查看[Langchain官方文档](https://python.langchain.com/en/latest/modules/models/chat/integrations.html)。"
      ]
    },
    {
      "cell_type": "markdown",
      "metadata": {
        "id": "HRX6Pu3ysNDD"
      },
      "source": [
        "这里依旧使用chatglm\n"
      ]
    },
    {
      "cell_type": "code",
      "execution_count": 17,
      "metadata": {
        "tags": [],
        "id": "LrdKL8CusNDD"
      },
      "outputs": [],
      "source": [
        "from langchain.chat_models import ChatOpenAI"
      ]
    },
    {
      "cell_type": "code",
      "execution_count": 21,
      "metadata": {
        "tags": [],
        "id": "6-wQrgGOsNDD",
        "colab": {
          "base_uri": "https://localhost:8080/",
          "height": 35
        },
        "outputId": "39d502d4-9b49-4e34-c8f9-9e995f1ffdb7"
      },
      "outputs": [
        {
          "output_type": "execute_result",
          "data": {
            "text/plain": [
              "'gpt-3.5-turbo'"
            ],
            "application/vnd.google.colaboratory.intrinsic+json": {
              "type": "string"
            }
          },
          "metadata": {},
          "execution_count": 21
        }
      ],
      "source": [
        "# openai.api_base = \"https://openkey.cloud/v1\" # 换成代理，一定要加v1\n",
        "# # openai.api_key = \"API_KEY\"\n",
        "# openai.api_key = \"sk-S0TKP0Sxk8H8VirL7a912cAf06314e46AfB0348eD40183B5\"\n",
        "\n",
        "# 这里我们将参数temperature设置为0.0，从而减少生成答案的随机性。\n",
        "# 如果你想要每次得到不一样的有新意的答案，可以尝试调整该参数。\n",
        "chat = ChatOpenAI(\n",
        "    openai_api_base = \"https://openkey.cloud/v1\",\n",
        "    openai_api_key = \"sk-S0TKP0Sxk8H8VirL7a912cAf06314e46AfB0348eD40183B5\",\n",
        "    temperature=0.0,\n",
        "    )\n",
        "chat\n",
        "chat.model_name"
      ]
    },
    {
      "cell_type": "markdown",
      "metadata": {
        "id": "I-_Mqw8esNDD"
      },
      "source": [
        "上面的输出显示ChatOpenAI的默认模型为`gpt-3.5-turbo`"
      ]
    },
    {
      "cell_type": "markdown",
      "metadata": {
        "id": "bH3CZxUOsNDD"
      },
      "source": [
        "### 3.2 提示模板\n",
        "\n",
        "在前面的例子中，我们通过[f字符串](https://docs.python.org/zh-cn/3/tutorial/inputoutput.html#tut-f-strings)把Python表达式的值`style`和`customer_email`添加到`prompt`字符串内。\n",
        "\n",
        "```python\n",
        "prompt = f\"\"\"Translate the text \\\n",
        "that is delimited by triple backticks\n",
        "into a style that is {style}.\n",
        "text: ```{customer_email}```\n",
        "\"\"\"\n",
        "```\n",
        "`langchain`提供了接口方便快速的构造和使用提示。现在我们来看看如何使用`langchain`来构造提示。"
      ]
    },
    {
      "cell_type": "markdown",
      "metadata": {
        "tags": [],
        "id": "AnqMTQnLsNDE"
      },
      "source": [
        "#### 3.2.1 使用LangChain提示模版"
      ]
    },
    {
      "cell_type": "markdown",
      "metadata": {
        "tags": [],
        "id": "xNu_HZRYsNDE"
      },
      "source": [
        "##### 1️⃣ 构造提示模版字符串\n",
        "我们构造一个提示模版字符串：`template_string`"
      ]
    },
    {
      "cell_type": "code",
      "execution_count": 22,
      "metadata": {
        "tags": [],
        "id": "pon0RCecsNDE"
      },
      "outputs": [],
      "source": [
        "template_string = \"\"\"Translate the text \\\n",
        "that is delimited by triple backticks \\\n",
        "into a style that is {style}. \\\n",
        "text: ```{text}```\n",
        "\"\"\""
      ]
    },
    {
      "cell_type": "markdown",
      "metadata": {
        "tags": [],
        "id": "sExU-CwbsNDE"
      },
      "source": [
        "##### 2️⃣ 构造LangChain提示模版\n",
        "我们调用`ChatPromptTemplatee.from_template()`函数将上面的提示模版字符`template_string`转换为提示模版`prompt_template`"
      ]
    },
    {
      "cell_type": "code",
      "execution_count": 23,
      "metadata": {
        "tags": [],
        "id": "j8ToY5JSsNDE"
      },
      "outputs": [],
      "source": [
        "import langchain\n",
        "from langchain.chat_models import ChatOpenAI\n",
        "from langchain.prompts import ChatPromptTemplate\n",
        "from langchain import PromptTemplate\n",
        "prompt_template = ChatPromptTemplate.from_template(template_string)"
      ]
    },
    {
      "cell_type": "code",
      "execution_count": 24,
      "metadata": {
        "tags": [],
        "id": "mivfkXuHsNDE",
        "outputId": "24c9d768-be08-44f6-b1a8-1bd363e59b21",
        "colab": {
          "base_uri": "https://localhost:8080/"
        }
      },
      "outputs": [
        {
          "output_type": "stream",
          "name": "stdout",
          "text": [
            "input_variables=['style', 'text'] output_parser=None partial_variables={} template='Translate the text that is delimited by triple backticks into a style that is {style}. text: ```{text}```\\n' template_format='f-string' validate_template=True\n"
          ]
        }
      ],
      "source": [
        "print(prompt_template.messages[0].prompt)"
      ]
    },
    {
      "cell_type": "markdown",
      "metadata": {
        "id": "OB8gsmKhsNDE"
      },
      "source": [
        "从上面的输出可以看出，`prompt_template` 有两个输入变量： `style` 和 `text`。"
      ]
    },
    {
      "cell_type": "code",
      "execution_count": 25,
      "metadata": {
        "tags": [],
        "id": "JLMZSF7EsNDE",
        "outputId": "fb4a0f3c-3b86-4a5a-8ab5-7c8290e57cc1",
        "colab": {
          "base_uri": "https://localhost:8080/"
        }
      },
      "outputs": [
        {
          "output_type": "stream",
          "name": "stdout",
          "text": [
            "['style', 'text']\n"
          ]
        }
      ],
      "source": [
        "print(prompt_template.messages[0].prompt.input_variables)"
      ]
    },
    {
      "cell_type": "markdown",
      "metadata": {
        "id": "Rm8LG8kYsNDJ"
      },
      "source": [
        "##### 3️⃣ 使用模版得到客户消息提示\n",
        "\n",
        "langchain提示模版`prompt_template`需要两个输入变量： `style` 和 `text`。 这里分别对应\n",
        "- `customer_style`: 我们想要的顾客邮件风格\n",
        "- `customer_email`: 顾客的原始邮件文本。"
      ]
    },
    {
      "cell_type": "code",
      "execution_count": 26,
      "metadata": {
        "tags": [],
        "id": "U2saygcJsNDJ"
      },
      "outputs": [],
      "source": [
        "customer_style = \"\"\"American English \\\n",
        "in a calm and respectful tone\n",
        "\"\"\""
      ]
    },
    {
      "cell_type": "code",
      "execution_count": 27,
      "metadata": {
        "tags": [],
        "id": "yXJ9aamosNDJ"
      },
      "outputs": [],
      "source": [
        "customer_email = \"\"\"\n",
        "Arrr, I be fuming that me blender lid \\\n",
        "flew off and splattered me kitchen walls \\\n",
        "with smoothie! And to make matters worse, \\\n",
        "the warranty don't cover the cost of \\\n",
        "cleaning up me kitchen. I need yer help \\\n",
        "right now, matey!\n",
        "\"\"\""
      ]
    },
    {
      "cell_type": "markdown",
      "metadata": {
        "id": "bwp8xBgBsNDJ"
      },
      "source": [
        "对于给定的`customer_style`和`customer_email`, 我们可以使用提示模版`prompt_template`的`format_messages`方法生成想要的客户消息`customer_messages`。"
      ]
    },
    {
      "cell_type": "code",
      "execution_count": 28,
      "metadata": {
        "tags": [],
        "id": "OQExBXETsNDK"
      },
      "outputs": [],
      "source": [
        "customer_messages = prompt_template.format_messages(\n",
        "                    style=customer_style,\n",
        "                    text=customer_email)"
      ]
    },
    {
      "cell_type": "code",
      "execution_count": 29,
      "metadata": {
        "tags": [],
        "id": "XIQ1KBUbsNDK",
        "outputId": "afe6ed01-477f-4a69-fb02-b8f050ae2146",
        "colab": {
          "base_uri": "https://localhost:8080/"
        }
      },
      "outputs": [
        {
          "output_type": "stream",
          "name": "stdout",
          "text": [
            "<class 'list'>\n",
            "<class 'langchain.schema.messages.HumanMessage'>\n"
          ]
        }
      ],
      "source": [
        "print(type(customer_messages))\n",
        "print(type(customer_messages[0]))"
      ]
    },
    {
      "cell_type": "markdown",
      "metadata": {
        "id": "yBsqiZeZsNDK"
      },
      "source": [
        "可以看出`customer_messages`变量类型为列表(`list`)，而列表里的元素变量类型为langchain自定义消息(`langchain.schema.HumanMessage`)。\n",
        "\n",
        "打印第一个元素可以得到如下:"
      ]
    },
    {
      "cell_type": "code",
      "execution_count": 30,
      "metadata": {
        "tags": [],
        "id": "Kb8iZAAjsNDK",
        "outputId": "edc180af-7705-4c2b-cf68-431314d460d2",
        "colab": {
          "base_uri": "https://localhost:8080/"
        }
      },
      "outputs": [
        {
          "output_type": "stream",
          "name": "stdout",
          "text": [
            "content=\"Translate the text that is delimited by triple backticks into a style that is American English in a calm and respectful tone\\n. text: ```\\nArrr, I be fuming that me blender lid flew off and splattered me kitchen walls with smoothie! And to make matters worse, the warranty don't cover the cost of cleaning up me kitchen. I need yer help right now, matey!\\n```\\n\" additional_kwargs={} example=False\n"
          ]
        }
      ],
      "source": [
        "print(customer_messages[0])"
      ]
    },
    {
      "cell_type": "code",
      "execution_count": null,
      "metadata": {
        "id": "aCm1P7T4sNDK"
      },
      "outputs": [],
      "source": [
        "# 中文提示\n",
        "from langchain.prompts import ChatPromptTemplate\n",
        "\n",
        "template_string = \"\"\"把由三个反引号分隔的文本\\\n",
        "翻译成一种{style}风格。\\\n",
        "文本: ```{text}```\n",
        "\"\"\"\n",
        "prompt_template = ChatPromptTemplate.from_template(template_string)\n",
        "\n",
        "customer_style = \"\"\"正式普通话 \\\n",
        "用一个平静、尊敬的语气\n",
        "\"\"\"\n",
        "\n",
        "customer_email = \"\"\"\n",
        "阿，我很生气，\\\n",
        "因为我的搅拌机盖掉了，\\\n",
        "把奶昔溅到了厨房的墙上！\\\n",
        "更糟糕的是，保修不包括打扫厨房的费用。\\\n",
        "我现在需要你的帮助，伙计！\n",
        "\"\"\"\n",
        "\n",
        "customer_messages = prompt_template.format_messages(\n",
        "                    style=customer_style,\n",
        "                    text=customer_email)\n",
        "\n",
        "\n",
        "print(customer_messages[0])"
      ]
    },
    {
      "cell_type": "markdown",
      "metadata": {
        "id": "4XfwT9LqsNDK"
      },
      "source": [
        "##### 4️⃣ 调用chat模型转换客户消息风格\n",
        "\n",
        "现在我们可以调用[模型](#model)部分定义的chat模型来实现转换客户消息风格。到目前为止，我们已经实现了在前一部分的任务。"
      ]
    },
    {
      "cell_type": "code",
      "execution_count": 31,
      "metadata": {
        "tags": [],
        "id": "WvDYlql8sNDK"
      },
      "outputs": [],
      "source": [
        "customer_response = chat(customer_messages)"
      ]
    },
    {
      "cell_type": "code",
      "execution_count": 32,
      "metadata": {
        "tags": [],
        "id": "gomkKQ0csNDK",
        "outputId": "36afe582-b7fe-40c7-c205-6f0a6294abd6",
        "colab": {
          "base_uri": "https://localhost:8080/"
        }
      },
      "outputs": [
        {
          "output_type": "stream",
          "name": "stdout",
          "text": [
            "I'm really frustrated that my blender lid flew off and made a mess of my kitchen walls with smoothie! And to make things even worse, the warranty doesn't cover the cost of cleaning up my kitchen. I could really use your help right now, my friend!\n"
          ]
        }
      ],
      "source": [
        "print(customer_response.content)"
      ]
    },
    {
      "cell_type": "code",
      "execution_count": 33,
      "metadata": {
        "id": "UkP0Xm4QsNDK",
        "outputId": "809d3c61-7f35-47ad-9001-47e7799b8c06",
        "colab": {
          "base_uri": "https://localhost:8080/"
        }
      },
      "outputs": [
        {
          "output_type": "stream",
          "name": "stdout",
          "text": [
            "I'm really frustrated that my blender lid flew off and made a mess of my kitchen walls with smoothie! And to make things even worse, the warranty doesn't cover the cost of cleaning up my kitchen. I could really use your help right now, my friend!\n"
          ]
        }
      ],
      "source": [
        "print(customer_response.content)"
      ]
    },
    {
      "cell_type": "markdown",
      "metadata": {
        "id": "dO6imeXmsNDL"
      },
      "source": [
        "##### 5️⃣ 使用模版得到回复消息提示\n",
        "\n",
        "接下来，我们更进一步，将客服人员回复的消息，转换为海盗的语言风格，并确保消息比较有礼貌。\n",
        "\n",
        "这里，我们可以继续使用第2️⃣步构造的langchain提示模版，来获得我们回复消息提示。"
      ]
    },
    {
      "cell_type": "code",
      "execution_count": 34,
      "metadata": {
        "tags": [],
        "id": "R3kPwtbusNDL"
      },
      "outputs": [],
      "source": [
        "service_reply = \"\"\"Hey there customer, \\\n",
        "the warranty does not cover \\\n",
        "cleaning expenses for your kitchen \\\n",
        "because it's your fault that \\\n",
        "you misused your blender \\\n",
        "by forgetting to put the lid on before \\\n",
        "starting the blender. \\\n",
        "Tough luck! See ya!\n",
        "\"\"\""
      ]
    },
    {
      "cell_type": "code",
      "execution_count": 35,
      "metadata": {
        "id": "IUbcwkVNsNDL"
      },
      "outputs": [],
      "source": [
        "service_style_pirate = \"\"\"\\\n",
        "a polite tone \\\n",
        "that speaks in English Pirate\\\n",
        "\"\"\""
      ]
    },
    {
      "cell_type": "code",
      "execution_count": 36,
      "metadata": {
        "tags": [],
        "id": "2E4kZzDVsNDL",
        "outputId": "f99e13bf-8d97-460b-db8d-0b6f218cd956",
        "colab": {
          "base_uri": "https://localhost:8080/"
        }
      },
      "outputs": [
        {
          "output_type": "stream",
          "name": "stdout",
          "text": [
            "Translate the text that is delimited by triple backticks into a style that is a polite tone that speaks in English Pirate. text: ```Hey there customer, the warranty does not cover cleaning expenses for your kitchen because it's your fault that you misused your blender by forgetting to put the lid on before starting the blender. Tough luck! See ya!\n",
            "```\n",
            "\n"
          ]
        }
      ],
      "source": [
        "service_messages = prompt_template.format_messages(\n",
        "    style=service_style_pirate,\n",
        "    text=service_reply)\n",
        "\n",
        "print(service_messages[0].content)"
      ]
    },
    {
      "cell_type": "markdown",
      "metadata": {
        "id": "DO7_iO-VsNDL"
      },
      "source": [
        "##### 6️⃣ 调用chat模型转换回复消息风格\n",
        "\n",
        "调用[模型](#model)部分定义的chat模型来转换回复消息风格"
      ]
    },
    {
      "cell_type": "code",
      "execution_count": 37,
      "metadata": {
        "tags": [],
        "id": "tGaAL0zXsNDL",
        "outputId": "b0545adf-28be-47af-a07b-9147205db3db",
        "colab": {
          "base_uri": "https://localhost:8080/"
        }
      },
      "outputs": [
        {
          "output_type": "stream",
          "name": "stdout",
          "text": [
            "Ahoy there, matey! I regret to inform ye that the warranty be not coverin' the costs o' cleanin' yer galley, as 'tis yer own fault fer misusin' yer blender by forgettin' to secure the lid afore startin' it. Aye, tough luck, me heartie! Fare thee well!\n"
          ]
        }
      ],
      "source": [
        "service_response = chat(service_messages)\n",
        "print(service_response.content)"
      ]
    },
    {
      "cell_type": "markdown",
      "metadata": {
        "id": "QlYoqMX7sNDL"
      },
      "source": [
        "#### 3.2.2 中文版"
      ]
    },
    {
      "cell_type": "code",
      "execution_count": null,
      "metadata": {
        "id": "58r1FAV_sNDL"
      },
      "outputs": [],
      "source": [
        "service_reply = \"\"\"嘿，顾客， \\\n",
        "保修不包括厨房的清洁费用， \\\n",
        "因为您在启动搅拌机之前 \\\n",
        "忘记盖上盖子而误用搅拌机, \\\n",
        "这是您的错。 \\\n",
        "倒霉！ 再见！\n",
        "\"\"\"\n",
        "\n",
        "service_style_pirate = \"\"\"\\\n",
        "一个有礼貌的语气 \\\n",
        "使用正式的普通话 \\\n",
        "\"\"\"\n",
        "service_messages = prompt_template.format_messages(\n",
        "    style=service_style_pirate,\n",
        "    text=service_reply)\n",
        "\n",
        "print(service_messages[0].content)"
      ]
    },
    {
      "cell_type": "code",
      "execution_count": null,
      "metadata": {
        "id": "WyWoc9j-sNDL"
      },
      "outputs": [],
      "source": [
        "service_response = chat(service_messages)\n",
        "print(service_response.content)"
      ]
    },
    {
      "cell_type": "markdown",
      "metadata": {
        "tags": [],
        "id": "-wVXMbp4sNDL"
      },
      "source": [
        "#### 3.2.2 为什么需要提示模版"
      ]
    },
    {
      "cell_type": "markdown",
      "metadata": {
        "id": "M3cRWDpusNDM"
      },
      "source": [
        "在应用于比较复杂的场景时，提示可能会非常长并且包含涉及许多细节。**使用提示模版，可以让我们更为方便地重复使用设计好的提示**。"
      ]
    },
    {
      "cell_type": "markdown",
      "metadata": {
        "id": "JrvvQVn-sNDM"
      },
      "source": [
        "下面给出了一个比较长的提示模版案例。学生们线上学习并提交作业，通过以下的提示来实现对学生的提交的作业的评分。"
      ]
    },
    {
      "cell_type": "code",
      "execution_count": null,
      "metadata": {
        "id": "LVtjzukRsNDM"
      },
      "outputs": [],
      "source": [
        "# 英文版\n",
        "prompt = \"\"\" Your task is to determine if the student's solution is correct or not\n",
        "\n",
        "    To solve the problem do the following:\n",
        "    - First, workout your own solution to the problem\n",
        "    - Then compare your solution to the student's solution\n",
        "    and evaluate if the sudtent's solution is correct or not.\n",
        "    ...\n",
        "    Use the following format:\n",
        "    Question:\n",
        "    ```\n",
        "    question here\n",
        "    ```\n",
        "    Student's solution:\n",
        "    ```\n",
        "    student's solution here\n",
        "    ```\n",
        "    Actual solution:\n",
        "    ```\n",
        "    ...\n",
        "    steps to work out the solution and your solution here\n",
        "    ```\n",
        "    Is the student's solution the same as acutal solution \\\n",
        "    just calculated:\n",
        "    ```\n",
        "    yes or no\n",
        "    ```\n",
        "    Student grade\n",
        "    ```\n",
        "    correct or incorrect\n",
        "    ```\n",
        "\n",
        "    Question:\n",
        "    ```\n",
        "    {question}\n",
        "    ```\n",
        "    Student's solution:\n",
        "    ```\n",
        "    {student's solution}\n",
        "    ```\n",
        "    Actual solution:\n",
        "\n",
        "    \"\"\""
      ]
    },
    {
      "cell_type": "code",
      "execution_count": null,
      "metadata": {
        "id": "PlNRarQUsNDM"
      },
      "outputs": [],
      "source": [
        "# 中文版\n",
        "prompt = \"\"\" 你的任务是判断学生的解决方案是正确的还是不正确的\n",
        "\n",
        "要解决该问题，请执行以下操作：\n",
        " - 首先，制定自己的问题解决方案\n",
        " - 然后将您的解决方案与学生的解决方案进行比较\n",
        " 并评估学生的解决方案是否正确。\n",
        "...\n",
        "使用下面的格式:\n",
        "\n",
        "问题:\n",
        "```\n",
        "问题文本\n",
        "```\n",
        "学生的解决方案:\n",
        "```\n",
        "学生的解决方案文本\n",
        "```\n",
        "实际解决方案:\n",
        "```\n",
        "...\n",
        "制定解决方案的步骤以及您的解决方案请参见此处\n",
        "```\n",
        "学生的解决方案和实际解决方案是否相同 \\\n",
        "只计算：\n",
        "```\n",
        "是或者不是\n",
        "```\n",
        "学生的成绩\n",
        "```\n",
        "正确或者不正确\n",
        "```\n",
        "\n",
        "问题:\n",
        "```\n",
        "{question}\n",
        "```\n",
        "学生的解决方案:\n",
        "```\n",
        "{student's solution}\n",
        "```\n",
        "实际解决方案:\n",
        "\n",
        "\"\"\""
      ]
    },
    {
      "cell_type": "markdown",
      "metadata": {
        "jp-MarkdownHeadingCollapsed": true,
        "tags": [],
        "id": "TRNp-jY4sNDM"
      },
      "source": [
        "此外，LangChain还提供了提示模版用于一些常用场景。比如自动摘要、问答、连接到SQL数据库、连接到不同的API. 通过使用LongChain内置的提示模版，你可以快速建立自己的大模型应用，而不需要花时间去设计和构造提示。\n",
        "\n",
        "最后，我们在建立大模型应用时，通常希望模型的输出为给定的格式，比如在输出使用特定的关键词来让输出结构化。 下面为一个使用大模型进行链式思考推理例子，对于问题：*What is the elevation range for the area that the eastern sector of the Colorado orogeny extends into?*\n",
        "\n",
        "通过使用LangChain库函数，输出采用\"Thought\"（思考）、\"Action\"（行动）、\"Observation\"（观察）作为链式思考推理的关键词，让输出结构化。\n",
        "\n",
        "```\n",
        "Thought: I need to search Colorado orogeny, find the area that the eastern sector of the Colorado orogeny extends into, then find the elevation range of the area.\n",
        "Action: Search[Colorado orogeny]\n",
        "Observation: The Colorado orogeny was an episode of mountain building (an orogeny) in Colorado and surrounding areas.\n",
        "\n",
        "Thought: It does not mention the eastern sector. So I need to look up eastern sector.\n",
        "Action: Lookup[eastern sector]\n",
        "Observation: (Result 1 / 1) The eastern sector extends into the High Plains and is called the Central Plains orogeny.\n",
        "\n",
        "Thought: The eastern sector of Colorado orogeny extends into the High Plains. So I need to search High Plains and find its elevation range.\n",
        "Action: Search[High Plains]\n",
        "Observation: High Plains refers to one of two distinct land regions\n",
        "\n",
        "Thought: I need to instead search High Plains (United States).\n",
        "Action: Search[High Plains (United States)]\n",
        "Observation: The High Plains are a subregion of the Great Plains. From east to west, the High Plains rise in elevation from around 1,800 to 7,000 ft (550 to 2,130 m).[3]\n",
        "\n",
        "Thought: High Plains rise in elevation from around 1,800 to 7,000 ft, so the answer is 1,800 to 7,000 ft.\n",
        "Action: Finish[1,800 to 7,000 ft]\n",
        "```"
      ]
    },
    {
      "cell_type": "markdown",
      "metadata": {
        "id": "PMl79dDRsNDM"
      },
      "source": [
        "在补充材料中，可以查看使用LangChain和OpenAI进行链式思考推理的另一个代码实例。"
      ]
    },
    {
      "cell_type": "markdown",
      "metadata": {
        "id": "A8EBDGSRsNDM"
      },
      "source": [
        "### 3.3 输出解析器"
      ]
    },
    {
      "cell_type": "markdown",
      "metadata": {
        "id": "iKw49i7BsNDM"
      },
      "source": [
        "#### 3.3.1 如果没有输出解析器\n",
        "\n",
        "对于给定的评价`customer_review`, 我们希望提取信息，并按以下格式输出：\n",
        "\n",
        "```python\n",
        "{\n",
        "  \"gift\": False,\n",
        "  \"delivery_days\": 5,\n",
        "  \"price_value\": \"pretty affordable!\"\n",
        "}\n",
        "```"
      ]
    },
    {
      "cell_type": "code",
      "execution_count": null,
      "metadata": {
        "id": "lOvSrCjMsNDM"
      },
      "outputs": [],
      "source": [
        "customer_review = \"\"\"\\\n",
        "This leaf blower is pretty amazing.  It has four settings:\\\n",
        "candle blower, gentle breeze, windy city, and tornado. \\\n",
        "It arrived in two days, just in time for my wife's \\\n",
        "anniversary present. \\\n",
        "I think my wife liked it so much she was speechless. \\\n",
        "So far I've been the only one using it, and I've been \\\n",
        "using it every other morning to clear the leaves on our lawn. \\\n",
        "It's slightly more expensive than the other leaf blowers \\\n",
        "out there, but I think it's worth it for the extra features.\n",
        "\"\"\""
      ]
    },
    {
      "cell_type": "markdown",
      "metadata": {
        "id": "bm6Lnv_msNDM"
      },
      "source": [
        "##### 1️⃣ 构造提示模版字符串"
      ]
    },
    {
      "cell_type": "code",
      "execution_count": null,
      "metadata": {
        "id": "ptn69B3tsNDM"
      },
      "outputs": [],
      "source": [
        "review_template = \"\"\"\\\n",
        "For the following text, extract the following information:\n",
        "\n",
        "gift: Was the item purchased as a gift for someone else? \\\n",
        "Answer True if yes, False if not or unknown.\n",
        "\n",
        "delivery_days: How many days did it take for the product \\\n",
        "to arrive? If this information is not found, output -1.\n",
        "\n",
        "price_value: Extract any sentences about the value or price,\\\n",
        "and output them as a comma separated Python list.\n",
        "\n",
        "Format the output as JSON with the following keys:\n",
        "gift\n",
        "delivery_days\n",
        "price_value\n",
        "\n",
        "text: {text}\n",
        "\"\"\""
      ]
    },
    {
      "cell_type": "markdown",
      "metadata": {
        "id": "Ko4ExVB5sNDM"
      },
      "source": [
        "##### 2️⃣ 构造langchain提示模版"
      ]
    },
    {
      "cell_type": "code",
      "execution_count": null,
      "metadata": {
        "id": "vU1fNhxwsNDM"
      },
      "outputs": [],
      "source": [
        "from langchain.prompts import ChatPromptTemplate\n",
        "prompt_template = ChatPromptTemplate.from_template(review_template)\n",
        "print(prompt_template)"
      ]
    },
    {
      "cell_type": "markdown",
      "metadata": {
        "id": "pJDdT6qAsNDN"
      },
      "source": [
        "##### 3️⃣ 使用模版得到提示消息"
      ]
    },
    {
      "cell_type": "code",
      "execution_count": null,
      "metadata": {
        "id": "NMvmvAVHsNDN"
      },
      "outputs": [],
      "source": [
        "messages = prompt_template.format_messages(text=customer_review)"
      ]
    },
    {
      "cell_type": "markdown",
      "metadata": {
        "id": "J7OysVOusNDN"
      },
      "source": [
        "##### 4️⃣ 调用chat模型提取信息"
      ]
    },
    {
      "cell_type": "code",
      "execution_count": null,
      "metadata": {
        "id": "OX9lrxw6sNDN"
      },
      "outputs": [],
      "source": [
        "chat = ChatOpenAI(temperature=0.0)\n",
        "response = chat(messages)\n",
        "print(response.content)"
      ]
    },
    {
      "cell_type": "markdown",
      "metadata": {
        "id": "sXlaSwTwsNDN"
      },
      "source": [
        "##### 📝 分析与总结\n",
        "`response.content`类型为字符串（`str`），而并非字典(`dict`), 直接使用`get`方法会报错。因此，我们需要输出解释器。"
      ]
    },
    {
      "cell_type": "code",
      "execution_count": null,
      "metadata": {
        "id": "A0vaZZwisNDN"
      },
      "outputs": [],
      "source": [
        "type(response.content)"
      ]
    },
    {
      "cell_type": "code",
      "execution_count": null,
      "metadata": {
        "id": "W4JQ_JHHsNDN"
      },
      "outputs": [],
      "source": [
        "response.content.get('gift')"
      ]
    },
    {
      "cell_type": "markdown",
      "metadata": {
        "id": "HHCV83LTsNDN"
      },
      "source": [
        "#### 3.3.2 中文版"
      ]
    },
    {
      "cell_type": "code",
      "execution_count": null,
      "metadata": {
        "id": "fyXD7l94sNDO"
      },
      "outputs": [],
      "source": [
        "from langchain.prompts import ChatPromptTemplate\n",
        "\n",
        "customer_review = \"\"\"\\\n",
        "这款吹叶机非常神奇。 它有四个设置：\\\n",
        "吹蜡烛、微风、风城、龙卷风。 \\\n",
        "两天后就到了，正好赶上我妻子的\\\n",
        "周年纪念礼物。 \\\n",
        "我想我的妻子会喜欢它到说不出话来。 \\\n",
        "到目前为止，我是唯一一个使用它的人，而且我一直\\\n",
        "每隔一天早上用它来清理草坪上的叶子。 \\\n",
        "它比其他吹叶机稍微贵一点，\\\n",
        "但我认为它的额外功能是值得的。\n",
        "\"\"\"\n",
        "\n",
        "review_template = \"\"\"\\\n",
        "对于以下文本，请从中提取以下信息：\n",
        "\n",
        "礼物：该商品是作为礼物送给别人的吗？ \\\n",
        "如果是，则回答 是的；如果否或未知，则回答 不是。\n",
        "\n",
        "交货天数：产品需要多少天\\\n",
        "到达？ 如果没有找到该信息，则输出-1。\n",
        "\n",
        "价钱：提取有关价值或价格的任何句子，\\\n",
        "并将它们输出为逗号分隔的 Python 列表。\n",
        "\n",
        "使用以下键将输出格式化为 JSON：\n",
        "礼物\n",
        "交货天数\n",
        "价钱\n",
        "\n",
        "文本: {text}\n",
        "\"\"\"\n",
        "\n",
        "prompt_template = ChatPromptTemplate.from_template(review_template)\n",
        "print(prompt_template)\n"
      ]
    },
    {
      "cell_type": "code",
      "execution_count": null,
      "metadata": {
        "id": "kFiyZMFIsNDO"
      },
      "outputs": [],
      "source": [
        "messages = prompt_template.format_messages(text=customer_review)\n",
        "\n",
        "chat = ChatOpenAI(temperature=0.0)\n",
        "response = chat(messages)\n",
        "print(response.content)"
      ]
    },
    {
      "cell_type": "markdown",
      "metadata": {
        "id": "CPue7gl1sNDO"
      },
      "source": [
        "#### 3.3.3 LangChain输出解析器"
      ]
    },
    {
      "cell_type": "markdown",
      "metadata": {
        "id": "pxWn7EyPsNDO"
      },
      "source": [
        "##### 1️⃣ 构造提示模版字符串"
      ]
    },
    {
      "cell_type": "code",
      "execution_count": null,
      "metadata": {
        "id": "AEWl1sAjsNDO"
      },
      "outputs": [],
      "source": [
        "review_template_2 = \"\"\"\\\n",
        "For the following text, extract the following information:\n",
        "\n",
        "gift: Was the item purchased as a gift for someone else? \\\n",
        "Answer True if yes, False if not or unknown.\n",
        "\n",
        "delivery_days: How many days did it take for the product\\\n",
        "to arrive? If this information is not found, output -1.\n",
        "\n",
        "price_value: Extract any sentences about the value or price,\\\n",
        "and output them as a comma separated Python list.\n",
        "\n",
        "text: {text}\n",
        "\n",
        "{format_instructions}\n",
        "\"\"\""
      ]
    },
    {
      "cell_type": "markdown",
      "metadata": {
        "id": "PuCEQtWpsNDO"
      },
      "source": [
        "##### 2️⃣ 构造langchain提示模版"
      ]
    },
    {
      "cell_type": "code",
      "execution_count": null,
      "metadata": {
        "id": "OCRE5zJisNDO"
      },
      "outputs": [],
      "source": [
        "prompt = ChatPromptTemplate.from_template(template=review_template_2)"
      ]
    },
    {
      "cell_type": "markdown",
      "metadata": {
        "id": "40Yk7tPpsNDO"
      },
      "source": [
        "##### 🔥 构造输出解析器"
      ]
    },
    {
      "cell_type": "code",
      "execution_count": null,
      "metadata": {
        "id": "6oaWnD1HsNDO"
      },
      "outputs": [],
      "source": [
        "from langchain.output_parsers import ResponseSchema\n",
        "from langchain.output_parsers import StructuredOutputParser\n",
        "\n",
        "gift_schema = ResponseSchema(name=\"gift\",\n",
        "                             description=\"Was the item purchased\\\n",
        "                             as a gift for someone else? \\\n",
        "                             Answer True if yes,\\\n",
        "                             False if not or unknown.\")\n",
        "\n",
        "delivery_days_schema = ResponseSchema(name=\"delivery_days\",\n",
        "                                      description=\"How many days\\\n",
        "                                      did it take for the product\\\n",
        "                                      to arrive? If this \\\n",
        "                                      information is not found,\\\n",
        "                                      output -1.\")\n",
        "\n",
        "price_value_schema = ResponseSchema(name=\"price_value\",\n",
        "                                    description=\"Extract any\\\n",
        "                                    sentences about the value or \\\n",
        "                                    price, and output them as a \\\n",
        "                                    comma separated Python list.\")\n",
        "\n",
        "\n",
        "response_schemas = [gift_schema,\n",
        "                    delivery_days_schema,\n",
        "                    price_value_schema]\n",
        "output_parser = StructuredOutputParser.from_response_schemas(response_schemas)\n",
        "format_instructions = output_parser.get_format_instructions()\n",
        "print(format_instructions)"
      ]
    },
    {
      "cell_type": "markdown",
      "metadata": {
        "id": "l7Ysk2gesNDO"
      },
      "source": [
        "##### 3️⃣ 使用模版得到提示消息"
      ]
    },
    {
      "cell_type": "code",
      "execution_count": null,
      "metadata": {
        "id": "pcaw1HGmsNDO"
      },
      "outputs": [],
      "source": [
        "messages = prompt.format_messages(text=customer_review, format_instructions=format_instructions)"
      ]
    },
    {
      "cell_type": "code",
      "execution_count": null,
      "metadata": {
        "id": "WSQVePVDsNDO"
      },
      "outputs": [],
      "source": [
        "print(messages[0].content)"
      ]
    },
    {
      "cell_type": "markdown",
      "metadata": {
        "id": "yQUAxQTGsNDO"
      },
      "source": [
        "##### 4️⃣ 调用chat模型提取信息"
      ]
    },
    {
      "cell_type": "code",
      "execution_count": null,
      "metadata": {
        "id": "_lLDqA75sNDO"
      },
      "outputs": [],
      "source": [
        "response = chat(messages)\n",
        "print(response.content)"
      ]
    },
    {
      "cell_type": "markdown",
      "metadata": {
        "id": "XUWHguRHsNDP"
      },
      "source": [
        "##### 5️⃣ 使用输出解析器解析输出"
      ]
    },
    {
      "cell_type": "code",
      "execution_count": null,
      "metadata": {
        "id": "TewOIq2TsNDP"
      },
      "outputs": [],
      "source": [
        "output_dict = output_parser.parse(response.content)\n",
        "output_dict"
      ]
    },
    {
      "cell_type": "markdown",
      "metadata": {
        "id": "4a1VuiTasNDQ"
      },
      "source": [
        "##### 📝 分析与总结\n",
        "`output_dict`类型为字典(`dict`), 可直接使用`get`方法。这样的输出更方便下游任务的处理。"
      ]
    },
    {
      "cell_type": "code",
      "execution_count": null,
      "metadata": {
        "id": "PhvW-rCMsNDQ"
      },
      "outputs": [],
      "source": [
        "type(output_dict)"
      ]
    },
    {
      "cell_type": "code",
      "execution_count": null,
      "metadata": {
        "id": "F-BbkU5usNDQ"
      },
      "outputs": [],
      "source": [
        "output_dict.get('delivery_days')"
      ]
    },
    {
      "cell_type": "markdown",
      "metadata": {
        "id": "VZo1e4TjsNDQ"
      },
      "source": [
        "#### 3.3.4 中文版"
      ]
    },
    {
      "cell_type": "code",
      "execution_count": null,
      "metadata": {
        "id": "Eo-rxckgsNDR"
      },
      "outputs": [],
      "source": [
        "# 中文\n",
        "review_template_2 = \"\"\"\\\n",
        "对于以下文本，请从中提取以下信息：：\n",
        "\n",
        "礼物：该商品是作为礼物送给别人的吗？\n",
        "如果是，则回答 是的；如果否或未知，则回答 不是。\n",
        "\n",
        "交货天数：产品到达需要多少天？ 如果没有找到该信息，则输出-1。\n",
        "\n",
        "价钱：提取有关价值或价格的任何句子，并将它们输出为逗号分隔的 Python 列表。\n",
        "\n",
        "文本: {text}\n",
        "\n",
        "{format_instructions}\n",
        "\"\"\"\n",
        "\n",
        "from langchain.output_parsers import ResponseSchema\n",
        "from langchain.output_parsers import StructuredOutputParser\n",
        "\n",
        "gift_schema = ResponseSchema(name=\"礼物\",\n",
        "                             description=\"这件物品是作为礼物送给别人的吗？\\\n",
        "                            如果是，则回答 是的，\\\n",
        "                            如果否或未知，则回答 不是。\")\n",
        "\n",
        "delivery_days_schema = ResponseSchema(name=\"交货天数\",\n",
        "                                      description=\"产品需要多少天才能到达？\\\n",
        "                                      如果没有找到该信息，则输出-1。\")\n",
        "\n",
        "price_value_schema = ResponseSchema(name=\"价钱\",\n",
        "                                    description=\"提取有关价值或价格的任何句子，\\\n",
        "                                    并将它们输出为逗号分隔的 Python 列表\")\n",
        "\n",
        "\n",
        "response_schemas = [gift_schema,\n",
        "                    delivery_days_schema,\n",
        "                    price_value_schema]\n",
        "output_parser = StructuredOutputParser.from_response_schemas(response_schemas)\n",
        "format_instructions = output_parser.get_format_instructions()\n",
        "print(format_instructions)"
      ]
    },
    {
      "cell_type": "code",
      "execution_count": null,
      "metadata": {
        "id": "uq3aGPGGsNDR"
      },
      "outputs": [],
      "source": [
        "messages = prompt.format_messages(text=customer_review, format_instructions=format_instructions)\n",
        "print(messages[0].content)"
      ]
    },
    {
      "cell_type": "code",
      "execution_count": null,
      "metadata": {
        "id": "-X8Ik8MhsNDR"
      },
      "outputs": [],
      "source": [
        "response = chat(messages)\n",
        "print(response.content)\n"
      ]
    },
    {
      "cell_type": "code",
      "execution_count": null,
      "metadata": {
        "id": "eYoulvTGsNDR"
      },
      "outputs": [],
      "source": [
        "output_dict = output_parser.parse(response.content)\n",
        "output_dict"
      ]
    },
    {
      "cell_type": "markdown",
      "metadata": {
        "id": "yFMwu1JTsNDR"
      },
      "source": [
        "## 四、补充材料"
      ]
    },
    {
      "cell_type": "markdown",
      "metadata": {
        "id": "7GCPtvFDsNDR"
      },
      "source": [
        "### 4.1 链式思考推理(ReAct)\n",
        "参考资料：[ReAct (Reason+Act) prompting in OpenAI GPT and LangChain](https://tsmatz.wordpress.com/2023/03/07/react-with-openai-gpt-and-langchain/)"
      ]
    },
    {
      "cell_type": "code",
      "execution_count": 38,
      "metadata": {
        "id": "-MaJcrFisNDR",
        "colab": {
          "base_uri": "https://localhost:8080/"
        },
        "outputId": "c57b4653-5e5c-40d2-b4bd-17f87ca65223"
      },
      "outputs": [
        {
          "output_type": "stream",
          "name": "stdout",
          "text": [
            "  Preparing metadata (setup.py) ... \u001b[?25l\u001b[?25hdone\n",
            "  Building wheel for wikipedia (setup.py) ... \u001b[?25l\u001b[?25hdone\n"
          ]
        }
      ],
      "source": [
        "!pip install -q wikipedia"
      ]
    },
    {
      "cell_type": "code",
      "execution_count": 40,
      "metadata": {
        "id": "2lCBFc1psNDR",
        "outputId": "69b5ddae-ac91-4d5f-e893-d83292f0b058",
        "colab": {
          "base_uri": "https://localhost:8080/",
          "height": 560
        }
      },
      "outputs": [
        {
          "output_type": "stream",
          "name": "stderr",
          "text": [
            "/usr/local/lib/python3.10/dist-packages/langchain/llms/openai.py:786: UserWarning: You are trying to use a chat model. This way of initializing it is no longer supported. Instead, please use: `from langchain.chat_models import ChatOpenAI`\n",
            "  warnings.warn(\n"
          ]
        },
        {
          "output_type": "stream",
          "name": "stdout",
          "text": [
            "\n",
            "\n",
            "\u001b[1m> Entering new AgentExecutor chain...\u001b[0m\n",
            "\u001b[32;1m\u001b[1;3mThought: I need to search David Chanoff and find the U.S. Navy admiral he collaborated with. Then I need to find the president under whom the admiral served as the ambassador to the United Kingdom.\n",
            "Action: Search[David Chanoff]\u001b[0m\n",
            "Observation: \u001b[36;1m\u001b[1;3mDavid Chanoff is a noted author of non-fiction work. His work has typically involved collaborations with the principal protagonist of the work concerned. His collaborators have included; Augustus A. White, Joycelyn Elders, Đoàn Văn Toại, William J. Crowe, Ariel Sharon, Kenneth Good and Felix Zandman. He has also written about a wide range of subjects including literary history, education and foreign for The Washington Post, The New Republic and The New York Times Magazine. He has published more than twelve books.\u001b[0m\n",
            "Thought:\u001b[32;1m\u001b[1;3mDavid Chanoff has collaborated with several individuals, including Augustus A. White, Joycelyn Elders, Đoàn Văn Toại, William J. Crowe, Ariel Sharon, Kenneth Good, and Felix Zandman. I need to search each of these individuals to find the U.S. Navy admiral. \n",
            "Action: Search[Augustus A. White]\u001b[0m\n",
            "Observation: \u001b[36;1m\u001b[1;3mAugustus A. White III (born June 4, 1936) is the Ellen and Melvin Gordon Distinguished Professor of Medical Education and Professor of Orthopedic Surgery at Harvard Medical School and a former Orthopaedic Surgeon-in-Chief at Beth Israel Hospital, Boston, Massachusetts. White was the first African American medical student at Stanford, surgical resident at Yale University, professor of medicine at Yale, and department head at a Harvard-affiliated hospital (Beth Israel Hospital).\u001b[0m\n",
            "Thought:\u001b[32;1m\u001b[1;3mAugustus A. White III is not a U.S. Navy admiral. I need to search the next individual, Joycelyn Elders.\n",
            "Action: Search[Joycelyn Elders]\u001b[0m\n",
            "Observation: \u001b[36;1m\u001b[1;3mMinnie Joycelyn Elders (born Minnie Lee Jones; August 13, 1933) is an American pediatrician and public health administrator who served as Surgeon General of the United States from 1993 to 1994. A vice admiral in the Public Health Service Commissioned Corps, she was the second woman, second person of color, and first African American to serve as Surgeon General. \n",
            "Elders is best known for her frank discussion of her views on controversial issues such as drug legalization, masturbation, and distributing contraception in schools. She was forced to resign in December 1994 amidst controversy as a result of her views. She is currently a professor emerita of pediatrics at the University of Arkansas for Medical Sciences.\u001b[0m\n",
            "Thought:\u001b[32;1m\u001b[1;3mJoycelyn Elders is a pediatrician and public health administrator, not a U.S. Navy admiral. I need to search the next individual, Đoàn Văn Toại.\n",
            "Action: Search[Đoàn Văn Toại]\u001b[0m\n",
            "Observation: \u001b[36;1m\u001b[1;3mĐoàn Văn Toại (1945 in Vietnam – November 2017 in California) was a Vietnamese-born naturalized American activist and the author of The Vietnamese Gulag (Simon & Schuster, 1986).\u001b[0m\n",
            "Thought:\u001b[32;1m\u001b[1;3mĐoàn Văn Toại is an activist and author, not a U.S. Navy admiral. I need to search the next individual, William J. Crowe.\n",
            "Action: Search[William J. Crowe]\u001b[0m\n",
            "Observation: \u001b[36;1m\u001b[1;3mWilliam James Crowe Jr. (January 2, 1925 – October 18, 2007) was a United States Navy admiral and diplomat who served as the 11th chairman of the Joint Chiefs of Staff under Presidents Ronald Reagan and George H. W. Bush, and as the ambassador to the United Kingdom and Chair of the Intelligence Oversight Board under President Bill Clinton.\u001b[0m\n",
            "Thought:\u001b[32;1m\u001b[1;3mWilliam J. Crowe is a U.S. Navy admiral and diplomat. I need to find the president under whom he served as the ambassador to the United Kingdom.\n",
            "Action: Search[William J. Crowe ambassador to United Kingdom]\u001b[0m\n",
            "Observation: \u001b[36;1m\u001b[1;3mWilliam James Crowe Jr. (January 2, 1925 – October 18, 2007) was a United States Navy admiral and diplomat who served as the 11th chairman of the Joint Chiefs of Staff under Presidents Ronald Reagan and George H. W. Bush, and as the ambassador to the United Kingdom and Chair of the Intelligence Oversight Board under President Bill Clinton.\u001b[0m\n",
            "Thought:\u001b[32;1m\u001b[1;3mWilliam J. Crowe served as the ambassador to the United Kingdom under President Bill Clinton. So the answer is Bill Clinton.\n",
            "Action: Finish[Bill Clinton]\u001b[0m\n",
            "\n",
            "\u001b[1m> Finished chain.\u001b[0m\n"
          ]
        },
        {
          "output_type": "execute_result",
          "data": {
            "text/plain": [
              "'Bill Clinton'"
            ],
            "application/vnd.google.colaboratory.intrinsic+json": {
              "type": "string"
            }
          },
          "metadata": {},
          "execution_count": 40
        }
      ],
      "source": [
        "from langchain.docstore.wikipedia import Wikipedia\n",
        "from langchain.llms import OpenAI\n",
        "from langchain.agents import initialize_agent, Tool, AgentExecutor\n",
        "from langchain.agents.react.base import DocstoreExplorer\n",
        "\n",
        "docstore=DocstoreExplorer(Wikipedia())\n",
        "tools = [\n",
        "  Tool(\n",
        "    name=\"Search\",\n",
        "    func=docstore.search,\n",
        "    description=\"Search for a term in the docstore.\",\n",
        "  ),\n",
        "  Tool(\n",
        "    name=\"Lookup\",\n",
        "    func=docstore.lookup,\n",
        "    description=\"Lookup a term in the docstore.\",\n",
        "  )\n",
        "]\n",
        "\n",
        "# 使用大语言模型\n",
        "llm = OpenAI(\n",
        "  openai_api_base = \"https://openkey.cloud/v1\",\n",
        "  openai_api_key = \"sk-S0TKP0Sxk8H8VirL7a912cAf06314e46AfB0348eD40183B5\",\n",
        "  model_name=\"gpt-3.5-turbo\",\n",
        "  temperature=0,\n",
        ")\n",
        "# chat = ChatOpenAI(\n",
        "#     openai_api_base = \"https://openkey.cloud/v1\",\n",
        "#     openai_api_key = \"sk-S0TKP0Sxk8H8VirL7a912cAf06314e46AfB0348eD40183B5\",\n",
        "#     temperature=0.0,\n",
        "#     )\n",
        "# chat\n",
        "\n",
        "# 初始化ReAct代理\n",
        "react = initialize_agent(tools, llm, agent=\"react-docstore\", verbose=True)\n",
        "agent_executor = AgentExecutor.from_agent_and_tools(\n",
        "  agent=react.agent,\n",
        "  tools=tools,\n",
        "  verbose=True,\n",
        ")\n",
        "\n",
        "\n",
        "question = \"Author David Chanoff has collaborated with a U.S. Navy admiral who served as the ambassador to the United Kingdom under which President?\"\n",
        "agent_executor.run(question)"
      ]
    }
  ],
  "metadata": {
    "kernelspec": {
      "display_name": "Python 3 (ipykernel)",
      "language": "python",
      "name": "python3"
    },
    "language_info": {
      "codemirror_mode": {
        "name": "ipython",
        "version": 3
      },
      "file_extension": ".py",
      "mimetype": "text/x-python",
      "name": "python",
      "nbconvert_exporter": "python",
      "pygments_lexer": "ipython3",
      "version": "3.10.12"
    },
    "colab": {
      "provenance": [],
      "include_colab_link": true
    }
  },
  "nbformat": 4,
  "nbformat_minor": 0
}